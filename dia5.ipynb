{
 "cells": [
  {
   "cell_type": "markdown",
   "metadata": {},
   "source": [
    "## Programacion Orientada a Objetos"
   ]
  },
  {
   "cell_type": "code",
   "execution_count": null,
   "metadata": {},
   "outputs": [],
   "source": [
    "class Mascota: # creo mi clase Mascot\n",
    "    ojos = 2 # atrubuto de clase\n",
    "    boca = 1 # atrubuto de clase\n",
    "\n",
    "    def __init__(self, nombre, raza, pelaje): # inicializo el objeto y le asigno atributos de instancia\n",
    "        self.nombre = nombre \n",
    "        self.raza = raza\n",
    "        self.pelaje = pelaje\n",
    "\n",
    "mi_gato = Mascota(\"solovino\", \"felino\", \"negro\") # creo mi objeto y le paso los atirbutos de instancia\n",
    "mi_perro = Mascota(\"oliver\", \"shih tzu\", \"olimpia\") # creo mi objeto y le paso los atirbutos de instancia\n",
    "\n",
    "print(mi_gato.pelaje) # imprimo el atributo de mi respectivo objeto\n",
    "print(mi_perro.nombre) # imprimo el atributo de mi respectivo objeto\n",
    "\n",
    "# mi_gato = Mascota()\n",
    "# mi_perro = Mascota()\n",
    "\n",
    "# print(mi_gato.ojos)"
   ]
  },
  {
   "cell_type": "markdown",
   "metadata": {},
   "source": [
    "## Challenge 🤺\n",
    "\n",
    "Crear dos clases de animales que tengan atributos de clase y de instancia.\n",
    "\n",
    "- Atributos de clase: `especie`.\n",
    "- Atributos de instancia: `nombre` & `color`.\n",
    "Luego, crear nuevos objetos a partir de las nuevas clases. Imprimir el nombre y el color de los animales en una frase que diga: \"Me llamo `{nombre}` y soy un ave de color `{color}`\"."
   ]
  },
  {
   "cell_type": "markdown",
   "metadata": {},
   "source": [
    "## Solucion de Priss ⭐"
   ]
  },
  {
   "cell_type": "code",
   "execution_count": 6,
   "metadata": {},
   "outputs": [
    {
     "name": "stdout",
     "output_type": "stream",
     "text": [
      "Me llamo Chewie y soy un pincher de color morocho :)\n",
      "Me llamo Brisa y soy una conejita de color gris 😄 \n"
     ]
    }
   ],
   "source": [
    "class Animal:\n",
    "    especie= \"mamifero\"\n",
    "\n",
    "\n",
    "    def __init__ (self, nombre, color):\n",
    "        self.nombre = nombre\n",
    "        self.color = color\n",
    "\n",
    "perro = Animal(\"Chewie\", \"morocho\")\n",
    "coneja = Animal (\"Brisa\" , \"gris\")\n",
    "\n",
    "print(f\"Me llamo {perro.nombre} y soy un pincher de color {perro.color} :)\")\n",
    "print(f\"Me llamo {coneja.nombre} y soy una conejita de color {coneja.color} 😄 \")"
   ]
  },
  {
   "cell_type": "markdown",
   "metadata": {},
   "source": [
    "## Solucion de Zandra 💚"
   ]
  },
  {
   "cell_type": "code",
   "execution_count": 8,
   "metadata": {},
   "outputs": [
    {
     "name": "stdout",
     "output_type": "stream",
     "text": [
      "Me llamo Fergie y soy un reptil de color verde\n",
      "Me llamo Coco y soy un reptil de color plateado\n"
     ]
    }
   ],
   "source": [
    "class Animales:\n",
    "    especie = \"reptil\"\n",
    "    def __init__(self, nombre, color):\n",
    "        self.nombre = nombre\n",
    "        self.color = color\n",
    "iguana = Animales(\"Fergie\", \"verde\")\n",
    "cobra = Animales(\"Coco\", \"plateado\")\n",
    "print(f\"Me llamo {iguana.nombre} y soy un reptil de color {iguana.color}\")\n",
    "print(f\"Me llamo {cobra.nombre} y soy un reptil de color {cobra.color}\")"
   ]
  },
  {
   "cell_type": "markdown",
   "metadata": {},
   "source": [
    "## Solucion de Lili 💞"
   ]
  },
  {
   "cell_type": "code",
   "execution_count": 10,
   "metadata": {},
   "outputs": [
    {
     "name": "stdout",
     "output_type": "stream",
     "text": [
      "hola me llamo chuki y soy una bichitos_de_colores de color rojo,negro\n",
      "hola me llamo satan y soy un animales peligrosos de color lila,peltre\n"
     ]
    }
   ],
   "source": [
    "class mariposas:\n",
    "    especie = \"bichitos_de_colores\"\n",
    "    def __init__(self,nombre,color):\n",
    "        self.nombre = nombre\n",
    "        self.color = color\n",
    "\n",
    "class raton:\n",
    "    especie = \"animales peligrosos\"\n",
    "    def __init__(self,nombre,color):\n",
    "        self.nombre = nombre\n",
    "        self.color = color\n",
    "\n",
    "#nombre,color,en frese \n",
    "\n",
    "mariposa1 = mariposas(\"chuki\",\"rojo,negro\")\n",
    "print(f\"hola me llamo {mariposa1.nombre} y soy una {mariposa1.especie} de color {mariposa1.color}\")\n",
    "\n",
    "raton1 = raton (\"satan\",\"lila,peltre\")\n",
    "print(f\"hola me llamo {raton1.nombre} y soy un {raton1.especie} de color {raton1.color}\")"
   ]
  },
  {
   "cell_type": "markdown",
   "metadata": {},
   "source": [
    "## Metodos"
   ]
  },
  {
   "cell_type": "code",
   "execution_count": 16,
   "metadata": {},
   "outputs": [
    {
     "name": "stdout",
     "output_type": "stream",
     "text": [
      "Julio\n",
      "mi pajarito es de la especie ruisenhor y su nombre es Julio y aletea aletea\n"
     ]
    }
   ],
   "source": [
    "class Ave: # creo mi clase Ave\n",
    "    especie = \"ruisenhor\"\n",
    "\n",
    "    def __init__(self, nombre):\n",
    "        self.nombre = nombre\n",
    "\n",
    "    def volar(self): # creo el metodo volar\n",
    "        return \"aletea aletea\"\n",
    "\n",
    "    def picoteo(self): # creo el metodo picoteo\n",
    "        print(\"picoteo picoteo\")\n",
    "\n",
    "avecita = Ave(\"Julio\")\n",
    "\n",
    "print(avecita.nombre) \n",
    "\n",
    "avecita.volar() # llamo a mi metodo volar\n",
    "\n",
    "aleteo = avecita.volar()\n",
    "print(f\"mi pajarito es de la especie {avecita.especie} y su nombre es {avecita.nombre} y {aleteo}\")\n"
   ]
  },
  {
   "cell_type": "markdown",
   "metadata": {},
   "source": [
    "## Challenge 🤺\n",
    "Crear dos métodos por animal, que sea hablar y moverse.\n",
    "\n",
    "En el método hablar, imprimir: \"Cuando hablo, digo X\".\n",
    "En el método mover, imprimir: \"Cuando me muevo, hago X\".\n",
    "\n",
    "X debe ser algo específico de ese animal"
   ]
  },
  {
   "cell_type": "markdown",
   "metadata": {},
   "source": [
    "## Solucion de Sofi 🤙🏻"
   ]
  },
  {
   "cell_type": "code",
   "execution_count": 18,
   "metadata": {},
   "outputs": [
    {
     "name": "stdout",
     "output_type": "stream",
     "text": [
      "Hola soy rocko el canino, cuando hablo digo wof - wof y cuando me muevo muevo la cola 🐶\n",
      "Hola soy Young-woo el manamal, cuando hablo digo WooOoo y cuando me muevo muevo brazas de un lado al otro 🐳\n"
     ]
    }
   ],
   "source": [
    "class Perro:\n",
    "    especie = \"canino\"\n",
    "    cola: 1\n",
    "    def __init__(self, nombre, color):\n",
    "        self.nombre = nombre\n",
    "        self.color = color\n",
    "\n",
    "    def habla(self):\n",
    "        return \"wof - wof\"\n",
    "\n",
    "    def movimiento(self):\n",
    "        return \"muevo la cola\"\n",
    "\n",
    "class Ballena:\n",
    "    especie = \"manamal\"\n",
    "\n",
    "    def __init__(self, nombre, color):\n",
    "        self.nombre = nombre\n",
    "        self.color = color\n",
    "\n",
    "    def habla(self):\n",
    "        return \"WooOoo\"\n",
    "\n",
    "    def movimiento(self):\n",
    "        return \"muevo brazas de un lado al otro\"\n",
    "\n",
    "perro_1 = Perro(\"rocko\", \"negro y blanco\")\n",
    "ballena_1 = Ballena(\"Young-woo\", \"azul\")\n",
    "\n",
    "print(f\"Hola soy {perro_1.nombre} el {perro_1.especie}, cuando hablo digo {perro_1.habla()} y cuando me muevo {perro_1.movimiento()} 🐶\")\n",
    "\n",
    "print(f\"Hola soy {ballena_1.nombre} el {ballena_1.especie}, cuando hablo digo {ballena_1.habla()} y cuando me muevo {ballena_1.movimiento()} 🐳\")"
   ]
  },
  {
   "cell_type": "markdown",
   "metadata": {},
   "source": [
    "## Solucion de Jes 🚀"
   ]
  },
  {
   "cell_type": "code",
   "execution_count": 19,
   "metadata": {},
   "outputs": [
    {
     "name": "stdout",
     "output_type": "stream",
     "text": [
      "-> Soy un gato, hago miau y cuando me aburro me lamo la cola\n"
     ]
    }
   ],
   "source": [
    "# definicion de la clase \n",
    "class Animal: \n",
    "\n",
    "    def __init__(self, especie, sonido, accion): \n",
    "        self.especie = especie\n",
    "        self.sonido = sonido\n",
    "        self.accion = accion\n",
    "\n",
    "    def hablar (self, sonido): \n",
    "        return self.sonido\n",
    "\n",
    "    def mover (self, accion): \n",
    "        return self.accion \n",
    "\n",
    "# instancia de los objetos \n",
    "animal = Animal(\"gato\", \"miau\", \"me lamo la cola\")\n",
    "animal.mover()\n",
    "# Impresion \n",
    "print(f\"-> Soy un {animal.especie}, hago {animal.hablar()} y cuando me aburro {animal.mover()}\") "
   ]
  },
  {
   "cell_type": "markdown",
   "metadata": {},
   "source": [
    "## Herencia"
   ]
  },
  {
   "cell_type": "code",
   "execution_count": 23,
   "metadata": {},
   "outputs": [
    {
     "name": "stdout",
     "output_type": "stream",
     "text": [
      "Soy un animal tipo Reptil\n",
      "Me estoy arrastrando\n",
      "verde\n"
     ]
    }
   ],
   "source": [
    "class Reptil: # creo mi clase serpiente\n",
    "    tipo = \"Reptil\"\n",
    "\n",
    "    def __init__(self, color, sonido):\n",
    "        self.color = color\n",
    "        self.sonido = sonido\n",
    "\n",
    "    def hablar(self): \n",
    "        print(\"hola buen dia\")\n",
    "\n",
    "    def presentarse(self):\n",
    "        print(f\"Soy un animal tipo {self.tipo}\")\n",
    "\n",
    "class Serpiente(Reptil): # creo mi clase Serpiente y heredo de la clase reptil\n",
    "    veneno = 10 #lts\n",
    "\n",
    "    def arrastrarse(self):\n",
    "        print(\"Me estoy arrastrando\")\n",
    "\n",
    "mi_serpiente = Serpiente(\"verde\", \"ssss\")\n",
    "\n",
    "mi_serpiente.presentarse()\n",
    "mi_serpiente.arrastrarse()\n",
    "\n",
    "print(mi_serpiente.color)\n",
    "\n",
    "\n",
    "class Dragon(Reptil):# creo mi clase dragon y heredo de la clase reptil\n",
    "    garras = 4\n",
    "\n",
    "    def escupir_fuego(self):\n",
    "        print(\"estoy escupiendo fuego\")\n",
    "\n",
    "mi_dragon = Dragon(\"Rojo\", \"rawr\")"
   ]
  },
  {
   "cell_type": "markdown",
   "metadata": {},
   "source": [
    "## Challenge 🤺\n",
    "Definir una clase madre que herede a sus clases hijas dos atributos de instancia. Mostrar ambos atributos en pantalla desde los objetos de las clases hijas.\n"
   ]
  },
  {
   "cell_type": "markdown",
   "metadata": {},
   "source": [
    "## Solucion de Cessia y Vero 💚🍕"
   ]
  },
  {
   "cell_type": "code",
   "execution_count": 24,
   "metadata": {},
   "outputs": [
    {
     "name": "stdout",
     "output_type": "stream",
     "text": [
      "Yo soy Lucius Malfoy de sangre Pura. Mago recibido en Hogwarts \n",
      "Yo soy Draco Malfoy de sangre Pura. Mago recibido en Hogwarts y No me relaciono con los muggles \n"
     ]
    }
   ],
   "source": [
    "class Slytherin_Padre: \n",
    "    casa = \"slytherin\"\n",
    "\n",
    "    def __init__(self,nombre,sangre,profesion,colegio):\n",
    "        self.nombre = nombre\n",
    "        self.sangre = sangre \n",
    "        self.profesion = profesion\n",
    "        self.colegio = colegio\n",
    "\n",
    "Lucius = Slytherin_Padre (\"Lucius Malfoy\", \"Pura\",\"Mago\",\"Hogwarts\")\n",
    "print(f\"Yo soy {Lucius.nombre} de sangre {Lucius.sangre}. {Lucius.profesion} recibido en {Lucius.colegio} \")\n",
    "\n",
    "\n",
    "class Slytherin_hijo (Slytherin_Padre):\n",
    "\n",
    "    def relacionamiento(self):\n",
    "        return \"No me relaciono con los muggles\"\n",
    "\n",
    "Draco = Slytherin_hijo (\"Draco Malfoy\",\"Pura\",\"Mago\",\"Hogwarts\")\n",
    "print(f\"Yo soy {Draco.nombre} de sangre {Draco.sangre}. {Draco.profesion} recibido en {Draco.colegio} y {Draco.relacionamiento ()} \")"
   ]
  },
  {
   "cell_type": "markdown",
   "metadata": {},
   "source": [
    "## Solucion de Ruth 💐"
   ]
  },
  {
   "cell_type": "code",
   "execution_count": 25,
   "metadata": {},
   "outputs": [
    {
     "name": "stdout",
     "output_type": "stream",
     "text": [
      "rubia\n",
      "2m\n",
      "oscuro\n",
      "bajo\n",
      "Hola soy la hija y mido 2m y mi hermano tiene el cabello color oscuro\n"
     ]
    }
   ],
   "source": [
    "class Madre:\n",
    "    primer_caracter= \"empoderada\"\n",
    "    def __init__ (self, tamanho, color_de_pelo):\n",
    "        self.altura = tamanho\n",
    "        self.color = color_de_pelo\n",
    "class hija(Madre):\n",
    "    forma_de_ser = \"libre\"\n",
    "hijita = hija(\"2m\", \"rubia\")\n",
    "print (hijita.color)\n",
    "print (hijita.altura)\n",
    "\n",
    "class hijo(Madre):\n",
    "    forma_de_ser = \"desagradable\"\n",
    "ser_macho= hijo(\"bajo\", \"oscuro\")\n",
    "print (ser_macho.color)\n",
    "print (ser_macho.altura)\n",
    "\n",
    "print(f\"Hola soy la hija y mido {hijita.altura} y mi hermano tiene el cabello color {ser_macho.color}\")"
   ]
  },
  {
   "cell_type": "markdown",
   "metadata": {},
   "source": [
    "## Diccionarios"
   ]
  },
  {
   "cell_type": "code",
   "execution_count": 32,
   "metadata": {},
   "outputs": [
    {
     "name": "stdout",
     "output_type": "stream",
     "text": [
      "{'nombre': 'Ana', 'apellido': 'melgarejo', 'email': 'analia@gmail', 'numero': '742752364', 'sexo': 'femenino'}\n",
      "{'nombre': 'Ana', 'apellido': 'melgarejo', 'email': 'analia@gmail', 'numero': '742752364'}\n",
      "{'nombre': 'Ana', 'apellido': 'melgarejo', 'numero': '742752364'}\n"
     ]
    }
   ],
   "source": [
    "mi_contacto = {\"nombre\":\"Ana\", \"apellido\":\"Britez\", \"email\":\"analia@gmail\", \"numero\":\"742752364\"} # creo mi diccionario\n",
    "\n",
    "directorio = { # creo mi diccionario\n",
    "    \"direccion\":\"calle mengano 1\",\n",
    "    \"edad\":\"16\"\n",
    "}\n",
    "\n",
    "# acceder a datos del diccionario\n",
    "mi_contacto[\"nombre\"]\n",
    "directorio[\"edad\"]\n",
    "\n",
    "#desplegar datos del diccionario\n",
    "mi_contacto.keys() # por clave\n",
    "mi_contacto.values() # por valor\n",
    "mi_contacto.items() # imprimir todos los elementos\n",
    "\n",
    "\n",
    "# actualizar y añadir datos del diccionrio\n",
    "mi_contacto[\"apellido\"] = \"melgarejo\"\n",
    "mi_contacto[\"sexo\"] = \"femenino\"\n",
    "print(mi_contacto)\n",
    "\n",
    "# eliminar datos de mi diccionario\n",
    "\n",
    "mi_contacto.popitem()\n",
    "print(mi_contacto)\n",
    "\n",
    "del mi_contacto[\"email\"]\n",
    "print(mi_contacto)\n"
   ]
  },
  {
   "cell_type": "markdown",
   "metadata": {},
   "source": [
    "## Challenge 1 🤺\n",
    "Escribir un programa que cree un diccionario vacío y lo vaya llenado con información sobre una persona (por ejemplo nombre, edad, sexo, teléfono, correo electrónico, etc.) que se le pida al usuario. Cada vez que se añada un nuevo dato debe imprimirse el contenido del diccionario."
   ]
  },
  {
   "cell_type": "markdown",
   "metadata": {},
   "source": [
    "## Solucion de Ara 🍮"
   ]
  },
  {
   "cell_type": "code",
   "execution_count": 33,
   "metadata": {},
   "outputs": [
    {
     "name": "stdout",
     "output_type": "stream",
     "text": [
      "{'ara': 'nombre'}\n",
      "{'ara': 'nombre', 'taboada': 'apellido'}\n"
     ]
    }
   ],
   "source": [
    "diccionario_vacio = {}\n",
    "\n",
    "carga_de_datos = input(\"Desea anhadir un dato? Escriba SI o NO\")\n",
    "\n",
    "while carga_de_datos == \"SI\":\n",
    "\n",
    "    diccionario_vacio[input(\"Ingese su dato\")]= input(\"Favor ingrese su respuesta\")\n",
    "\n",
    "    print(diccionario_vacio)\n",
    "\n",
    "    carga_de_datos = input(\"Desea anhadir un dato? Escriba SI o NO\")"
   ]
  },
  {
   "cell_type": "markdown",
   "metadata": {},
   "source": [
    "## Solucion de Jaz 🌞"
   ]
  },
  {
   "cell_type": "code",
   "execution_count": 34,
   "metadata": {},
   "outputs": [
    {
     "name": "stdout",
     "output_type": "stream",
     "text": [
      "{'nombre': 'jaz'}\n",
      "{'nombre': 'jaz', 'apellido': 'torres'}\n",
      "{'nombre': 'jaz', 'apellido': 'torres', 'edad': 17}\n",
      "{'nombre': 'jaz', 'apellido': 'torres', 'edad': 17, 'sexo': 'femenino'}\n",
      "{'nombre': 'jaz', 'apellido': 'torres', 'edad': 17, 'sexo': 'femenino', 'telefono': 38482343}\n",
      "{'nombre': 'jaz', 'apellido': 'torres', 'edad': 17, 'sexo': 'femenino', 'telefono': 38482343, 'correo': 'jaz@gmail'}\n"
     ]
    }
   ],
   "source": [
    "new_contact = {}\n",
    "nombre = input(\"Ingrese el nombre del futuro contacto\")\n",
    "apellido = input(\"Ingrese el apellido del futuro contacto\")\n",
    "edad = int(input(\"Ingrese la edad del futuro contacto\"))\n",
    "sexo = input(\"Ingrese el sexo del futuro contacto\")\n",
    "telefono = int(input(\"Ingrese el numero de telefono del futuro contacto\"))\n",
    "correo = input(\"Ingrese el correo electronico del futuro contacto\")\n",
    "\n",
    "new_contact [\"nombre\"] = nombre\n",
    "print(new_contact)\n",
    "\n",
    "new_contact [\"apellido\"] = apellido\n",
    "print(new_contact)\n",
    "\n",
    "new_contact [\"edad\"] = edad\n",
    "print(new_contact)\n",
    "\n",
    "new_contact [\"sexo\"] = sexo\n",
    "print(new_contact)\n",
    "\n",
    "new_contact [\"telefono\"] = telefono\n",
    "print(new_contact)\n",
    "\n",
    "new_contact [\"correo\"] = correo\n",
    "print(new_contact)"
   ]
  },
  {
   "cell_type": "markdown",
   "metadata": {},
   "source": [
    "## Challenge 2 🤺\n",
    "\n",
    "Challenge 2 🤺\n",
    "Crear una tarjeta personal. El usuario (mediante input) puede elegir:\n",
    "\n",
    "1. Crear datos nuevos\n",
    "2. Modificar datos\n",
    "3. Eliminar datos"
   ]
  },
  {
   "cell_type": "markdown",
   "metadata": {},
   "source": [
    "## Solucion de Jes 🌼"
   ]
  },
  {
   "cell_type": "code",
   "execution_count": 35,
   "metadata": {},
   "outputs": [
    {
     "name": "stdout",
     "output_type": "stream",
     "text": [
      "------------------------------------------\n",
      "Ingrese: \n",
      "[1] Si desea agregar datos, \n",
      "[2] Si desea modificar datos, \n",
      "[3] Si desea eliminar un dato, \n",
      "[4] Si desea listar los datos cargados \n",
      "[5] Si desea salir \n",
      "------------------------------------------ \n",
      "Se agrego tarjeta_personal[nombre] \n",
      "------------------------------------------\n",
      "Ingrese: \n",
      "[1] Si desea agregar datos, \n",
      "[2] Si desea modificar datos, \n",
      "[3] Si desea eliminar un dato, \n",
      "[4] Si desea listar los datos cargados \n",
      "[5] Si desea salir \n",
      "------------------------------------------ \n",
      "Se agrego tarjeta_personal[apellido] \n",
      "------------------------------------------\n",
      "Ingrese: \n",
      "[1] Si desea agregar datos, \n",
      "[2] Si desea modificar datos, \n",
      "[3] Si desea eliminar un dato, \n",
      "[4] Si desea listar los datos cargados \n",
      "[5] Si desea salir \n",
      "------------------------------------------ \n"
     ]
    }
   ],
   "source": [
    "def cargar_datos (tarjeta_personal): \n",
    "    campo = input ('Ingrese el campo que desea agregar ')\n",
    "    valor = input ('Ingrese el valor a cargar ')\n",
    "    tarjeta_personal[campo] = valor \n",
    "    print(f'Se agrego tarjeta_personal[{campo}] ')\n",
    "    return tarjeta_personal\n",
    "\n",
    "def modificar_datos (tarjeta_personal): \n",
    "    campo = input ('Ingrese el campo con el que desea trabajar ')\n",
    "    valor = input ('Ingrese el nuevo valor ')\n",
    "    tarjeta_personal[campo] = valor \n",
    "    print(f'Se modifico tarjeta_personal[{campo}] ')\n",
    "    return tarjeta_personal\n",
    "\n",
    "def eliminar (tarjeta_personal):\n",
    "    campo = input ('Ingrese el campo que desea eliminar ')\n",
    "    del tarjeta_personal [campo]\n",
    "    return tarjeta_personal\n",
    "\n",
    "tarjeta_personal = {}\n",
    "\n",
    "while (True): \n",
    "    print('------------------------------------------\\nIngrese: \\n[1] Si desea agregar datos, \\n[2] Si desea modificar datos, \\n[3] Si desea eliminar un dato, \\n[4] Si desea listar los datos cargados \\n[5] Si desea salir \\n------------------------------------------ ')\n",
    "    opcion = int(input('Ingrese su opcion: '))\n",
    "\n",
    "    if opcion == 1:\n",
    "        cargar_datos(tarjeta_personal); \n",
    "\n",
    "    elif opcion == 2:\n",
    "        modificar_datos(tarjeta_personal)\n",
    "\n",
    "    elif opcion == 3: \n",
    "        eliminar(tarjeta_personal)\n",
    "\n",
    "    elif opcion == 4: \n",
    "        print(\"Tarjeta Personal: \"+tarjeta_personal)\n",
    "\n",
    "    else: \n",
    "        break"
   ]
  },
  {
   "cell_type": "markdown",
   "metadata": {},
   "source": [
    "## Challenge 2 🤺\n",
    "\n",
    "Challenge 2 🤺\n",
    "Crear una tarjeta personal. El usuario (mediante input) puede elegir:\n",
    "\n",
    "1. Crear datos nuevos\n",
    "2. Modificar datos\n",
    "3. Eliminar datos"
   ]
  },
  {
   "cell_type": "code",
   "execution_count": 41,
   "metadata": {},
   "outputs": [
    {
     "name": "stdout",
     "output_type": "stream",
     "text": [
      "{'nombre': 'clau', 'apellido': 'melgarejo', 'telefono': '36482346'}\n",
      "1. Crear datos\n",
      "2. Modificar datos \n",
      "3. Eliminar datos\n",
      "{'nombre': 'clau', 'apellido': 'melgarejo', 'telefono': '36482346', 'edad': '28'}\n",
      "{'nombre': 'clau', 'apellido': 'melgarejo', 'telefono': '36482346', 'edad': '28', 'ciudad': 'asuncion'}\n",
      "{'nombre': 'ana', 'apellido': 'melgarejo', 'telefono': '36482346', 'edad': '28', 'ciudad': 'asuncion'}\n",
      "{'nombre': 'ana', 'apellido': 'melgarejo', 'edad': '28', 'ciudad': 'asuncion'}\n",
      "{'nombre': 'ana', 'apellido': 'melgarejo', 'edad': '28', 'ciudad': 'asuncion'}\n"
     ]
    }
   ],
   "source": [
    "tarjeta_personal = {}\n",
    "\n",
    "def crear_datos(nombre, apellido, telefono):\n",
    "    # cargar datos\n",
    "    tarjeta_personal[\"nombre\"] = nombre\n",
    "    tarjeta_personal[\"apellido\"] = apellido\n",
    "    tarjeta_personal[\"telefono\"] = telefono\n",
    "\n",
    "crear_datos(\"clau\", \"melgarejo\", \"36482346\") # cargar los valores\n",
    "\n",
    "print(tarjeta_personal)\n",
    "\n",
    "\n",
    "#-------------------------------------------------------------------------------\n",
    "\n",
    "print(\"\"\"1. Crear datos\n",
    "2. Modificar datos \n",
    "3. Eliminar datos\"\"\")\n",
    "\n",
    "usuario = int(input(\"Ingrese una opcion:\"))\n",
    "\n",
    "while True:\n",
    "    if usuario == 1:\n",
    "        clave_nueva = input(\"cual es el dato que quiere ingresar?\")\n",
    "        valor_nuevo = input(\"ingrese el dato\")\n",
    "        tarjeta_personal[clave_nueva] = valor_nuevo\n",
    "        print(tarjeta_personal)\n",
    "    elif usuario == 2:\n",
    "        clave_modificada = input(\"cual es el dato que quiere modificar?\")\n",
    "        valor_modificado = input(\"ingrese el dato\")\n",
    "        tarjeta_personal[clave_modificada] = valor_modificado\n",
    "        print(tarjeta_personal)\n",
    "    elif usuario == 3:\n",
    "        clave_eliminada = input(\"que valor desea eliminar\")\n",
    "        del tarjeta_personal[clave_eliminada]\n",
    "        print(tarjeta_personal)\n",
    "    else: \n",
    "        break\n",
    "    usuario = int(input(\"Ingrese una opcion:\"))\n",
    "print(tarjeta_personal)"
   ]
  }
 ],
 "metadata": {
  "kernelspec": {
   "display_name": "Python 3.10.4 64-bit",
   "language": "python",
   "name": "python3"
  },
  "language_info": {
   "codemirror_mode": {
    "name": "ipython",
    "version": 3
   },
   "file_extension": ".py",
   "mimetype": "text/x-python",
   "name": "python",
   "nbconvert_exporter": "python",
   "pygments_lexer": "ipython3",
   "version": "3.10.4"
  },
  "orig_nbformat": 4,
  "vscode": {
   "interpreter": {
    "hash": "e593ac106456af50ce7af38f9671c411b49d6cd90f9b885e167f0f594e09038c"
   }
  }
 },
 "nbformat": 4,
 "nbformat_minor": 2
}
