{
 "cells": [
  {
   "cell_type": "markdown",
   "metadata": {},
   "source": [
    "## Challenge 1 🧛‍♀️\n",
    "Crear un programa que contenga en cuatro variables los datos de un compañera: nombre, edad, altura. E imprimir en una frase que diga \"Mi compañera es {nombre}, tiene {edad} años y su altura es {altura} cm\"\n",
    "\n",
    "Ejemplo: Mi compañera es Ivana, tiene 24 años y su altura es 154 cm"
   ]
  },
  {
   "cell_type": "code",
   "execution_count": 2,
   "metadata": {},
   "outputs": [
    {
     "name": "stdout",
     "output_type": "stream",
     "text": [
      "Mi compañera es Analia, tiene 20 y su altura es 1.63 cm\n"
     ]
    }
   ],
   "source": [
    "nombre = \"Analia\"\n",
    "edad = input(\"Ingresar edad\")\n",
    "altura = 1.63\n",
    "print(f\"Mi compañera es {nombre}, tiene {edad} y su altura es {altura} cm\")"
   ]
  },
  {
   "cell_type": "markdown",
   "metadata": {},
   "source": [
    "## Challenge 2 🧛‍♀️\n",
    "Crear un programa que pregunte al usuario por su edad y verifique si tiene cedula.\n",
    "\n",
    "En el caso en el que su edad sea menor a 18 imprimir \"solo jugo ades\"\n",
    "En el caso de que tenga entre 18 y 21 imprimir \"podes tomar pero no comprar\"\n",
    "En el caso de que tenga mas de 21 imprimir \"hace lo que quieras kp\"\n",
    "\n",
    "OBS: Siempre que sea mayor de edad verificar si tiene cedula antes de imprimir el mensaje"
   ]
  },
  {
   "cell_type": "code",
   "execution_count": 6,
   "metadata": {},
   "outputs": [
    {
     "name": "stdout",
     "output_type": "stream",
     "text": [
      "hace lo que quieras kp\n"
     ]
    }
   ],
   "source": [
    "# Paso 1: creamos nuestra función validar_edad y definimos los parámetros de edad y cédula\n",
    "def validar_edad(edad, cedula): \n",
    "\n",
    "# Paso 2: Definimos nuestra condición para menores de edad\n",
    "    if edad<18:                  \n",
    "        print(\"Solo juguito\") #Definimos la acción\n",
    "\n",
    "# Paso 3: Definimos nuestra condición para las personas que está en el rango de entre 18 y 21, y que además tengan cédula\n",
    "    elif 18<= edad < 21 and cedula==True:\n",
    "        print(\"Podes tomar pero no comprar\") #Definimos la acción\n",
    "\n",
    "# Paso 4: Definimos nuestra condición para las personas que está en el rango mayores a 21, y que además tengan cédula\n",
    "    elif edad>=21 and cedula ==True:\n",
    "        print(\"hace lo que quieras kp\")#Definimos la acción\n",
    "\n",
    "# Paso 5: En caso de que ninguna de las opciones anteriores se cumplan,  decirle al usuario que no tiene cédula\n",
    "    else:\n",
    "        print(\"No tenes cedula\")\n",
    "\n",
    "# Paso 6: Solicitar al usuario ingresar su edad, convirtiendo a entero\n",
    "\n",
    "edad_usuario = int(input(\"Cuántos años tenés?\"))\n",
    "\n",
    "# Paso 7: Definir si tiene cédula o no\n",
    "cedula_usuario = True\n",
    "\n",
    "# Paso 8: Invocamos a nuestra función, pasando como argumentos los datos del paso 6 y 7\n",
    "validar_edad(edad_usuario, cedula_usuario)"
   ]
  },
  {
   "cell_type": "markdown",
   "metadata": {},
   "source": [
    "### Solución de Lupe 🔎"
   ]
  },
  {
   "cell_type": "code",
   "execution_count": 11,
   "metadata": {},
   "outputs": [
    {
     "name": "stdout",
     "output_type": "stream",
     "text": [
      "podes tomar pero no comprar\n"
     ]
    }
   ],
   "source": [
    "def preguntar_edad_y_verificar_cedula(edad,cedula): # los parametros  son edad y cedula\n",
    "    if cedula ==\"si\":\n",
    "        cedula = True\n",
    "    else:\n",
    "        cedula = False\n",
    "\n",
    "\n",
    "    if edad < 18: # Si\n",
    "        print(\"lo siento, aun no podes tomar alcohol\") \n",
    "    elif 18 <= edad < 21 and cedula == True : # en el caso\n",
    "        print(\"podes tomar pero no comprar\") \n",
    "    else:\n",
    "        print (\"hace lo que quieras kp\")\n",
    "\n",
    "preguntar_edad_y_verificar_cedula(int(input(\"Hola kp, ¿qué edadedad tenés?\")), input(\"¿trajiste cédula? si/no\")) # llamo a la funcion y expreso el fundamento"
   ]
  },
  {
   "cell_type": "markdown",
   "metadata": {},
   "source": [
    "## Challenge 3 🧛‍♀️\n",
    "Crear una funcion que pida como parametro el nombre, correo y contraseña de una persona. Retornar True si la contraseña tiene mas de 4 caracteres y el correo contiene un \"@\". De lo contrario retornar False"
   ]
  },
  {
   "cell_type": "code",
   "execution_count": 7,
   "metadata": {},
   "outputs": [
    {
     "name": "stdout",
     "output_type": "stream",
     "text": [
      "True\n"
     ]
    }
   ],
   "source": [
    "def verificacion_correo(nombre, correo, contrasenha): \n",
    "\n",
    "# Condiciones\n",
    "    es_contrasenha_mayor_a_4_letras = len(contrasenha)>4 # Comprobamos si la contrasenha es mayor a 4 letras. Esto nos retorna un booleano True o False\n",
    "    existe_arroba_en_correo = \"@\" in correo # Comprobamos si el arroba existe en la variable correo\n",
    "\n",
    "    if es_contrasenha_mayor_a_4_letras and existe_arroba_en_correo: # Verificamos que nuestras dos condiciones se cumplan \n",
    "        return True # Devolvemos el valor True\n",
    "    else:\n",
    "        return False # Devolvemos el valor False\n",
    "\n",
    "nombre_usuario = input(\"Ingrese su nombre\") # Solicitamos al usuario que ingrese su nombre\n",
    "correo_usuario = input(\"Ingrese su correo\") # Solicitamos al usuario que ingrese su correo\n",
    "contrasenha_usuario = input(\"Ingrese su contraseña\") # Solicitamos al usuario que ingrese su contraseña\n",
    "\n",
    "# Cargamos en una variable el resultado devuelto por nuestra función\n",
    "es_la_contrasenha_correcta = verificacion_correo(nombre_usuario, correo_usuario, contrasenha_usuario)\n",
    "\n",
    "print(es_la_contrasenha_correcta) # Imprimimos el resultado de si la contrasenha es correcta o no"
   ]
  },
  {
   "cell_type": "markdown",
   "metadata": {},
   "source": [
    "### Remix con listas"
   ]
  },
  {
   "cell_type": "code",
   "execution_count": 8,
   "metadata": {},
   "outputs": [
    {
     "data": {
      "text/plain": [
       "True"
      ]
     },
     "execution_count": 8,
     "metadata": {},
     "output_type": "execute_result"
    }
   ],
   "source": [
    "nombre_usuario = input(\"Ingrese su nombre\")\n",
    "correo_usuario = input(\"Ingrese su correo\")\n",
    "contrasenha_usuario = input(\"Ingrese su contraseña\")\n",
    "\n",
    "lista_datos = [nombre_usuario, correo_usuario, contrasenha_usuario]\n",
    "\n",
    "def verificacion_correo(lista): # enviamos la lista completa como parametro\n",
    "    if len(lista[2])>4 and \"@\" in lista[1]:\n",
    "        return True\n",
    "    else:\n",
    "        return False\n",
    "\n",
    "verificacion_correo(lista_datos)"
   ]
  },
  {
   "cell_type": "markdown",
   "metadata": {},
   "source": [
    "## Challenge 4 🧛‍♀️\n",
    "Crear una lista de animales y a continuación:\n",
    "\n",
    "Pedir al usuario por un animal a eliminar de la lista\n",
    "\n",
    "Pedir por otro animal y añadirlo en la ultima posicion\n",
    "\n",
    "Imprimir la lista final"
   ]
  },
  {
   "cell_type": "code",
   "execution_count": 16,
   "metadata": {},
   "outputs": [
    {
     "name": "stdout",
     "output_type": "stream",
     "text": [
      "['iguana', 'tigre', 'leon', 'araña']\n",
      "['iguana', 'leon', 'araña', 'mono']\n",
      "['perro', 'leon', 'araña', 'mono', 'iguana']\n"
     ]
    }
   ],
   "source": [
    "lista_animales = [\"iguana\", \"tigre\", \"leon\", \"araña\"]\n",
    "print(lista_animales)\n",
    "animal_a_eliminar = input(f\"Elimina un animal: {lista_animales}\")\n",
    "lista_animales.remove(animal_a_eliminar) # Eliminamos unos de los elementos por el elemento definido en el input anterior\n",
    "\n",
    "animal_a_anhadir = input(f\"Añade un animal: {lista_animales}\")\n",
    "lista_animales.append(animal_a_anhadir) # Agregamos un elemento a la lista\n",
    "print(lista_animales)\n",
    "\n",
    "animal_a_guardar = lista_animales[0] #guardamos el primer elemento de la lista en una variable de animal_a_guardar\n",
    "lista_animales[0]=\"perro\" # Reemplazamos el primer elemento\n",
    "lista_animales.append(animal_a_guardar) # Agregamos la variable animal_a_guardar al final de nuestra lista\n",
    "\n",
    "print(lista_animales)"
   ]
  },
  {
   "cell_type": "markdown",
   "metadata": {},
   "source": [
    "## Challenge 5 🧛‍♀️\n",
    "Escribir un programa que pregunte al usuario por una palabra y una letra. Imprimir cuantas veces se repite la letra en la palabra."
   ]
  },
  {
   "cell_type": "code",
   "execution_count": 19,
   "metadata": {},
   "outputs": [
    {
     "name": "stdout",
     "output_type": "stream",
     "text": [
      "2\n"
     ]
    }
   ],
   "source": [
    "palabra = input(\"Ingrese una palabra\")\n",
    "letra = input(\"Ingrese una letra\")\n",
    "cantidad_de_veces_que_se_repite = 0 #inicializamos el contador\n",
    "\n",
    "for letra_de_palabra in palabra: # Recorremos por elemento en una lista/cadena de caracteres determinada\n",
    "    print(f\"Letra {letra_de_palabra} de la {palabra}\") #imprimimos para ver que la variable de iteración contiene cada elemento de la palabra\n",
    "    if letra_de_palabra == letra:\n",
    "        cantidad_de_veces_que_se_repite = cantidad_de_veces_que_se_repite + 1 # si se cumple la condición, sumamos a nuestro contador 1 para ir aumento\n",
    "\n",
    "print(cantidad_de_veces_que_se_repite)"
   ]
  },
  {
   "cell_type": "markdown",
   "metadata": {},
   "source": [
    "### Remix por posición"
   ]
  },
  {
   "cell_type": "code",
   "execution_count": 22,
   "metadata": {},
   "outputs": [
    {
     "name": "stdout",
     "output_type": "stream",
     "text": [
      "Letra p en la posicion 0\n",
      "Letra e en la posicion 1\n",
      "Letra r en la posicion 2\n",
      "Letra r en la posicion 3\n",
      "Letra o en la posicion 4\n",
      "2\n"
     ]
    }
   ],
   "source": [
    "palabra = input(\"Ingrese una palabra\")\n",
    "letra = input(\"Ingrese una letra\")\n",
    "cantidad_de_veces_que_se_repite = 0\n",
    "longitud_de_palabra = len(palabra)\n",
    "for posicion in range(longitud_de_palabra): # Recorremos por posicion una lista/cadena de caracteres determinada \n",
    "    print(f\"Letra {palabra[posicion]} en la posicion {posicion}\")\n",
    "    if palabra[posicion] == letra:\n",
    "        cantidad_de_veces_que_se_repite = cantidad_de_veces_que_se_repite + 1\n",
    "\n",
    "print(cantidad_de_veces_que_se_repite)"
   ]
  },
  {
   "cell_type": "markdown",
   "metadata": {},
   "source": [
    "## Challenge 6 🧛‍♀️\n",
    "Definir una variable que contenga un numero y preguntar al usuario por el numero hasta que acierte. Si falla imprimir si el numero a adivinar es mayor o menor que el numero ingresado"
   ]
  },
  {
   "cell_type": "code",
   "execution_count": null,
   "metadata": {},
   "outputs": [],
   "source": [
    "numero = 8\n",
    "numero_ingresado = int(input(\"Adivina el número!\"))\n",
    "\n",
    "while numero != numero_ingresado: # Mientras que el numero ingresado sea distinto al numero a adivinar \n",
    "    if numero_ingresado > numero: # Avisa si el numero es mayor\n",
    "        print(\"El número ingresado es mayor. Ingrese un numero menor\")\n",
    "    else: # En caso contrario el numero es menor\n",
    "        print(\"El número ingresado es menor. Ingrese un numero mayor\")\n",
    "    numero_ingresado = int(input(\"Adivina el número!\")) # solicitar de nuevo al usuario que ingrese un numero\n",
    "\n",
    "print(\"Adivinaste!\")"
   ]
  },
  {
   "cell_type": "markdown",
   "metadata": {},
   "source": [
    "## Remix 😎"
   ]
  },
  {
   "cell_type": "code",
   "execution_count": 23,
   "metadata": {},
   "outputs": [
    {
     "name": "stdout",
     "output_type": "stream",
     "text": [
      "El número ingresado es menor. Ingrese un numero mayor\n",
      "El número ingresado es menor. Ingrese un numero mayor\n",
      "Adivinaste!\n"
     ]
    }
   ],
   "source": [
    "numero = 8\n",
    "numero_ingresado = int(input(\"Adivina el número!\"))\n",
    "while True:\n",
    "    if numero == numero_ingresado:\n",
    "        print(\"Adivinaste!\")\n",
    "        break\n",
    "    elif numero_ingresado > numero:\n",
    "        print(\"El número ingresado es mayor. Ingrese un numero menor\")\n",
    "    else:\n",
    "        print(\"El número ingresado es menor. Ingrese un numero mayor\")\n",
    "    numero_ingresado = int(input(\"Adivina el número!\"))\n",
    "\n"
   ]
  },
  {
   "cell_type": "markdown",
   "metadata": {},
   "source": [
    "## Remix 2.0 💥"
   ]
  },
  {
   "cell_type": "code",
   "execution_count": 24,
   "metadata": {},
   "outputs": [
    {
     "name": "stdout",
     "output_type": "stream",
     "text": [
      "El número ingresado es menor. Ingrese un numero mayor\n",
      "El número ingresado es menor. Ingrese un numero mayor\n",
      "El número ingresado es mayor. Ingrese un numero menor\n",
      "Numeros jugados: [7, 6, 10] y el numero correcto es 8\n"
     ]
    }
   ],
   "source": [
    "numero = 8\n",
    "numero_ingresado = int(input(\"Adivina el número!\"))\n",
    "cantidad_de_intentos = 0 \n",
    "lista_de_numeros = []\n",
    "\n",
    "while cantidad_de_intentos <3:\n",
    "    if numero == numero_ingresado:\n",
    "        print(\"Adivinaste!\")\n",
    "        break\n",
    "    elif numero_ingresado > numero:\n",
    "        print(\"El número ingresado es mayor. Ingrese un numero menor\")\n",
    "    else:\n",
    "        print(\"El número ingresado es menor. Ingrese un numero mayor\")\n",
    "    lista_de_numeros.append(numero_ingresado) # Creamos una lista de los numeros que fueron ingresados\n",
    "    numero_ingresado = int(input(\"Adivina el número!\"))\n",
    "    cantidad_de_intentos = cantidad_de_intentos + 1\n",
    "\n",
    "print(f\"Numeros jugados: {lista_de_numeros} y el numero correcto es {numero}\")"
   ]
  }
 ],
 "metadata": {
  "kernelspec": {
   "display_name": "Python 3.10.5 64-bit",
   "language": "python",
   "name": "python3"
  },
  "language_info": {
   "codemirror_mode": {
    "name": "ipython",
    "version": 3
   },
   "file_extension": ".py",
   "mimetype": "text/x-python",
   "name": "python",
   "nbconvert_exporter": "python",
   "pygments_lexer": "ipython3",
   "version": "3.10.5"
  },
  "orig_nbformat": 4,
  "vscode": {
   "interpreter": {
    "hash": "29a5f18be945bbe4a67baa5508964a301be4e452b8efd869cfe275258958afe6"
   }
  }
 },
 "nbformat": 4,
 "nbformat_minor": 2
}
