{
 "cells": [
  {
   "cell_type": "code",
   "execution_count": 1,
   "metadata": {},
   "outputs": [
    {
     "name": "stdout",
     "output_type": "stream",
     "text": [
      "Hola mundo\n"
     ]
    }
   ],
   "source": [
    "print(\"Hola mundo\") # Primer encuentro con python"
   ]
  },
  {
   "cell_type": "markdown",
   "metadata": {},
   "source": [
    "## Variables"
   ]
  },
  {
   "cell_type": "code",
   "execution_count": 5,
   "metadata": {},
   "outputs": [
    {
     "name": "stdout",
     "output_type": "stream",
     "text": [
      "manzana\n",
      "4\n",
      "pera\n"
     ]
    }
   ],
   "source": [
    "fruta = \"manzana\" # definimos un valor a la variable fruta\n",
    "print(fruta) # imprimimos fruta\n",
    "cantidad_de_fruta = 4 # definimos un valor a la variable cantidad_de_fruta\n",
    "print(cantidad_de_fruta) # imprimimos cantidad_de_fruta\n",
    "fruta = \"pera\" # redefinimos la variable fruta\n",
    "print(fruta) # volvwmos a imprimir fruta"
   ]
  },
  {
   "cell_type": "markdown",
   "metadata": {},
   "source": [
    "## Tipos de datos"
   ]
  },
  {
   "cell_type": "code",
   "execution_count": null,
   "metadata": {},
   "outputs": [],
   "source": [
    "cantidad_de_productos = 8 # Numero entero -> integer -> int\n",
    "precio_usd = 3.99 # numero decimal -> floating numbers -> float \n",
    "producto = \"gaseosa\" # texto -> strings -> str\n",
    "tienda_esta_abierta = False # boolean -> bool"
   ]
  },
  {
   "cell_type": "markdown",
   "metadata": {},
   "source": [
    "## Operaciones aritmeticas"
   ]
  },
  {
   "cell_type": "code",
   "execution_count": 10,
   "metadata": {},
   "outputs": [
    {
     "name": "stdout",
     "output_type": "stream",
     "text": [
      "23000\n",
      "18000\n",
      "30000\n",
      "10000.0\n",
      "9.0\n"
     ]
    }
   ],
   "source": [
    "# suma\n",
    "precio_total = 7000 + 10000 + 6000\n",
    "print(precio_total)\n",
    "\n",
    "# restas\n",
    "descuento = precio_total - 5000\n",
    "print(descuento)\n",
    "\n",
    "# multiplicacion \n",
    "\n",
    "precio_gaseosa = 10000\n",
    "cantidad = 3\n",
    "total_de_compra = precio_gaseosa * cantidad\n",
    "print(total_de_compra)\n",
    "\n",
    "# division \n",
    "cantida_de_personas = 3\n",
    "vaquita = total_de_compra / cantida_de_personas\n",
    "print(vaquita)\n",
    "\n",
    "print( 2 * 2 + 12 / 2 - 1)"
   ]
  },
  {
   "cell_type": "markdown",
   "metadata": {},
   "source": [
    "## Challenge 🤺 - 15m\n",
    "\n",
    "Suma: asignar dos números en dos variables diferentes `cantidad_de_manzanas` y `cantidad_de_naranjas`. Luego sumar ambas variables en `cantidad_de_frutas`. Imprimir la última variable.\n",
    "\n",
    "Resta: asignar un valor numérico a la variable `frutas_vendidas`. Luego, asignar la resta entre `cantidad_de_frutas` y `frutas_vendidas` a la variable `frutas_restantes`. Imprimir la última variable."
   ]
  },
  {
   "cell_type": "markdown",
   "metadata": {},
   "source": [
    "## Solucion de Vero 👒"
   ]
  },
  {
   "cell_type": "code",
   "execution_count": 11,
   "metadata": {},
   "outputs": [
    {
     "name": "stdout",
     "output_type": "stream",
     "text": [
      "125\n",
      "108\n"
     ]
    }
   ],
   "source": [
    "cantidad_de_manzanas = 50\n",
    "cantidad_de_naranjas = 75\n",
    "cantidad_frutas = cantidad_de_manzanas + cantidad_de_naranjas\n",
    "print(cantidad_frutas)\n",
    "frutas_vendidas = 17\n",
    "frutas_restantes = cantidad_frutas - frutas_vendidas\n",
    "print(frutas_restantes)"
   ]
  },
  {
   "cell_type": "markdown",
   "metadata": {},
   "source": [
    "## Solucion de Lupe 🌺"
   ]
  },
  {
   "cell_type": "code",
   "execution_count": 20,
   "metadata": {},
   "outputs": [
    {
     "name": "stdout",
     "output_type": "stream",
     "text": [
      "46\n",
      "27\n",
      "22\n",
      "cantidad de naranjas 34\n"
     ]
    }
   ],
   "source": [
    "cantidad_de_manzanas = 12\n",
    "cantidad_de_naranjas = 34\n",
    "cantidad_de_frutas = cantidad_de_manzanas + cantidad_de_naranjas\n",
    "print(cantidad_de_frutas)\n",
    "\n",
    "frutas_vendidas = 19\n",
    "frutas_restantes = cantidad_de_frutas - frutas_vendidas\n",
    "print(frutas_restantes)\n",
    "\n",
    "naranjas_vendidas = 12\n",
    "stock_naranjas = cantidad_de_naranjas - naranjas_vendidas\n",
    "print(stock_naranjas)\n",
    "\n",
    "print(f\"cantidad de naranjas {cantidad_de_naranjas}\")\n"
   ]
  },
  {
   "cell_type": "markdown",
   "metadata": {},
   "source": [
    "## concatenar texto"
   ]
  },
  {
   "cell_type": "code",
   "execution_count": 19,
   "metadata": {},
   "outputs": [
    {
     "name": "stdout",
     "output_type": "stream",
     "text": [
      "claudia\n",
      "claudiamelgarejo\n",
      "claudia melgarejo\n",
      "hola, mi nombre es claudia melgarejo\n",
      "hola, mi nombre es claudia melgarejo\n"
     ]
    }
   ],
   "source": [
    "nombre = \"claudia\" \n",
    "print(nombre)\n",
    "apellido = \"melgarejo\"\n",
    "\n",
    "print(nombre + apellido) # concatenamos la variable nombre y apellido\n",
    "# print(nombre + \" \" + apellido)\n",
    "# print(\"hola, mi nombre es \" + nombre + \" \" + apellido)\n",
    "print(f\"hola, mi nombre es {nombre} {apellido}\") # imprimimos la frase con el format\n"
   ]
  },
  {
   "cell_type": "markdown",
   "metadata": {},
   "source": [
    "## Challenge 🤺 - 15m\n",
    "\n",
    "Asignar el nombre y el apellido de tu compañera/o a las variables nombre y apellido. Luego, imprimir una frase, utilizando las variables.\n",
    "EJEMPLO: \"Hola. Me llamo Claudia Melgarejo. Mucho gusto.\""
   ]
  },
  {
   "cell_type": "markdown",
   "metadata": {},
   "source": [
    "## Solucion de Katya 🖤"
   ]
  },
  {
   "cell_type": "code",
   "execution_count": 21,
   "metadata": {},
   "outputs": [
    {
     "name": "stdout",
     "output_type": "stream",
     "text": [
      "hola , que tal soy diana nunez \n"
     ]
    }
   ],
   "source": [
    "nombre = \"diana\"\n",
    "\n",
    "apellido = \"nunez\"\n",
    "print (f\"hola , que tal soy {nombre} {apellido} \")"
   ]
  },
  {
   "cell_type": "markdown",
   "metadata": {},
   "source": [
    "## Solucion de Brenda ✌🏻"
   ]
  },
  {
   "cell_type": "code",
   "execution_count": 23,
   "metadata": {},
   "outputs": [
    {
     "name": "stdout",
     "output_type": "stream",
     "text": [
      "El nombre de mi compa de la mesa 4 es Emma Melgarejo\n",
      "Las personas que conformamos el grupo Cuatro: Emma,Sandra,Vero,Blanca,Brenda\n"
     ]
    }
   ],
   "source": [
    "nombre_Apellido = \"Emma Melgarejo\"\n",
    "print(f\"El nombre de mi compa de la mesa 4 es {nombre_Apellido}\")\n",
    "\n",
    "nombre_Apellido_1 = \"Emma\"\n",
    "nombre_Apellido_2 = \"Sandra\"\n",
    "nombre_Apellido_3 = \"Vero\"\n",
    "nombre_Apellido_4 = \"Blanca\"\n",
    "nombre_Apellido_5 =\"Brenda\"\n",
    "print(f\"Las personas que conformamos el grupo Cuatro: {nombre_Apellido_1},{nombre_Apellido_2},{nombre_Apellido_3},{nombre_Apellido_4 },{ nombre_Apellido_5}\")"
   ]
  },
  {
   "cell_type": "markdown",
   "metadata": {},
   "source": [
    "## Input"
   ]
  },
  {
   "cell_type": "code",
   "execution_count": 35,
   "metadata": {},
   "outputs": [
    {
     "name": "stdout",
     "output_type": "stream",
     "text": [
      "leche\n",
      "2\n",
      "4\n",
      "<class 'str'>\n",
      "<class 'int'>\n"
     ]
    }
   ],
   "source": [
    "producto = input(\"Que producto desea comprar?\") # pedimos un dato al usuario y guardamos en una variable\n",
    "print(producto) # imprimimos la variable \n",
    "\n",
    "cantidad = int(input(\"cantidad de unidades\"))\n",
    "print(cantidad)\n",
    "\n",
    "suma = cantidad + 2 # sumamos el dato ingresado con 2\n",
    "print(suma)\n",
    "print(type(producto)) # verificar tipo de dato de la variable producto\n",
    "print(type(cantidad)) # verificar tipo de dato de la variable cantidad"
   ]
  },
  {
   "cell_type": "markdown",
   "metadata": {},
   "source": [
    "## Challenge 🤺 - 15m\n",
    "\n",
    "Solicitar al usuario ingresar dos números y almacenarlos en dos variables. Luego, imprimir la suma de los dos números."
   ]
  },
  {
   "cell_type": "markdown",
   "metadata": {},
   "source": [
    "## Solucion de Amanda 🍎"
   ]
  },
  {
   "cell_type": "code",
   "execution_count": 36,
   "metadata": {},
   "outputs": [
    {
     "name": "stdout",
     "output_type": "stream",
     "text": [
      "4\n",
      "6\n",
      "10\n",
      "<class 'int'>\n",
      "<class 'int'>\n"
     ]
    }
   ],
   "source": [
    "n1 = int(input(\"Por favor elija un número\")) # aquí pedimos al usuario que elija un número y nos aseguramos de poner int para conversión a enteros\n",
    "print(n1) # print es la función para hacer visible la codificación de la variable.\n",
    "\n",
    "n2 = int(input(\"Ahora elija otro número más por favor\")) # y aquí pedimos nuevamente otro número e indicamos int \n",
    "print(n2)\n",
    "\n",
    "suma = n1 + n2 #esta es la suma de las dos variables\n",
    "\n",
    "print (suma)\n",
    "\n",
    "print(type(n1)) # type es utilizado para saber el tipo de datos de la variable\n",
    "print(type(n2)) # type es utilizado para saber el tipo de datos de la variable"
   ]
  },
  {
   "cell_type": "markdown",
   "metadata": {},
   "source": [
    "## Solucion de Sol 🌞"
   ]
  },
  {
   "cell_type": "code",
   "execution_count": 37,
   "metadata": {},
   "outputs": [
    {
     "name": "stdout",
     "output_type": "stream",
     "text": [
      "10\n"
     ]
    }
   ],
   "source": [
    "cantidad1 = int(input(\"Ingrese numero 1\")) # int es numero # string es letras\n",
    "cantidad2 = int(input(\"Ingrese numero 2\")) #input es para abrir la cajita \n",
    "\n",
    "suma = cantidad1 + cantidad2\n",
    "print(suma)"
   ]
  },
  {
   "cell_type": "markdown",
   "metadata": {},
   "source": [
    "## Funciones"
   ]
  },
  {
   "cell_type": "code",
   "execution_count": 43,
   "metadata": {},
   "outputs": [
    {
     "name": "stdout",
     "output_type": "stream",
     "text": [
      "colgar ropa\n",
      "paso 1: mojar la ropa\n",
      "girar el jabon\n",
      "enjuagar\n",
      "expulsar el agua\n",
      "centrifugar\n",
      "ropa lista\n"
     ]
    }
   ],
   "source": [
    "def lavar_ropa(): # definimos nuestra funcion y le asignamos un nombre\n",
    "    print(\"paso 1: mojar la ropa\") # citamos las instrucciones que queremos replicar\n",
    "    print(\"girar el jabon\")\n",
    "    print(\"enjuagar\")\n",
    "    print(\"expulsar el agua\")\n",
    "    print(\"centrifugar\")\n",
    "    print(\"ropa lista\")\n",
    "    \n",
    "print(\"colgar ropa\") # print fuera de la funcion\n",
    "lavar_ropa() # llamamos a la funcion\n"
   ]
  },
  {
   "cell_type": "markdown",
   "metadata": {},
   "source": [
    "## Challenge 🤺 - 15m\n",
    "\n",
    "Crear una función de un proceso que se les ocurra que tenga varios pasos.\n",
    "Ejecutar la función 3 veces."
   ]
  },
  {
   "cell_type": "markdown",
   "metadata": {},
   "source": [
    "## Solucion de Ale 💫"
   ]
  },
  {
   "cell_type": "code",
   "execution_count": 44,
   "metadata": {},
   "outputs": [
    {
     "name": "stdout",
     "output_type": "stream",
     "text": [
      "El producto de los numeros es 27\n",
      "El tipo de dato de PRODUCTO es <class 'int'>\n",
      "El producto de los numeros es 42\n",
      "El tipo de dato de PRODUCTO es <class 'int'>\n",
      "El producto de los numeros es 24\n",
      "El tipo de dato de PRODUCTO es <class 'int'>\n"
     ]
    }
   ],
   "source": [
    "def producto (): \n",
    "    numero1 = int (input(\"Hola, ingrese el primer numero \"))\n",
    "    numero2 = int(input(\"Ingrese el segundo numero\"))\n",
    "    producto = numero1 * numero2 \n",
    "    print(f\"El producto de los numeros es {producto}\")\n",
    "    print(f\"El tipo de dato de PRODUCTO es {type(producto)}\") #Sirve para poner el tipo de dato\n",
    "\n",
    "producto()\n",
    "producto()\n",
    "producto()"
   ]
  },
  {
   "cell_type": "markdown",
   "metadata": {},
   "source": [
    "## Solucion de Zandra ⭐"
   ]
  },
  {
   "cell_type": "code",
   "execution_count": 45,
   "metadata": {},
   "outputs": [
    {
     "name": "stdout",
     "output_type": "stream",
     "text": [
      "lavar las papas\n",
      "pelar las papas\n",
      "calentar el agua\n",
      "colocar las papas en el agua\n",
      "una vez que hierva y la papa este blanda sacar el agua\n",
      "hacer pure\n",
      "colocarle sal\n",
      "colocarle crema de leche y queso\n",
      "servir\n",
      "lavar las papas\n",
      "pelar las papas\n",
      "calentar el agua\n",
      "colocar las papas en el agua\n",
      "una vez que hierva y la papa este blanda sacar el agua\n",
      "hacer pure\n",
      "colocarle sal\n",
      "colocarle crema de leche y queso\n",
      "servir\n",
      "lavar las papas\n",
      "pelar las papas\n",
      "calentar el agua\n",
      "colocar las papas en el agua\n",
      "una vez que hierva y la papa este blanda sacar el agua\n",
      "hacer pure\n",
      "colocarle sal\n",
      "colocarle crema de leche y queso\n",
      "servir\n"
     ]
    }
   ],
   "source": [
    "def hacer_pure():\n",
    "    print(\"lavar las papas\")\n",
    "    print(\"pelar las papas\")\n",
    "    print(\"calentar el agua\")\n",
    "    print(\"colocar las papas en el agua\")\n",
    "    print(\"una vez que hierva y la papa este blanda sacar el agua\")\n",
    "    print(\"hacer pure\")\n",
    "    print(\"colocarle sal\")\n",
    "    print(\"colocarle crema de leche y queso\")\n",
    "    print(\"servir\")\n",
    "\n",
    "hacer_pure()\n",
    "hacer_pure()\n",
    "hacer_pure()"
   ]
  },
  {
   "cell_type": "markdown",
   "metadata": {},
   "source": [
    "## Solucion de Pia 🤩"
   ]
  },
  {
   "cell_type": "code",
   "execution_count": 46,
   "metadata": {},
   "outputs": [
    {
     "name": "stdout",
     "output_type": "stream",
     "text": [
      "pagar_tasa\n",
      "demanda\n",
      "primera_providencia\n",
      "notificar_primera providencia\n",
      "embargo_oficial_de_justicia\n",
      "notificar_primera providencia\n",
      "solicitar_oponer_excepciones\n",
      "providencia_oponer excepciones\n",
      "notificar_providencia_5_días\n",
      "solicitar_sentencia_de_remate\n",
      "sentencia_de_remate\n",
      "notificar_sentencia_de_remate_5_días\n",
      "inhibición\n",
      "oficio_registro_público\n",
      "notificar_inhibición\n"
     ]
    }
   ],
   "source": [
    "def juicio_ejecutivo_cheque_insolvente():\n",
    "    print(\"pagar_tasa\")\n",
    "    print(\"demanda\")\n",
    "    print(\"primera_providencia\")\n",
    "    print(\"notificar_primera providencia\")\n",
    "    print(\"embargo_oficial_de_justicia\")\n",
    "    print(\"notificar_primera providencia\")\n",
    "    print(\"solicitar_oponer_excepciones\")\n",
    "    print(\"providencia_oponer excepciones\")\n",
    "    print (\"notificar_providencia_5_días\")\n",
    "    print (\"solicitar_sentencia_de_remate\")\n",
    "    print (\"sentencia_de_remate\")\n",
    "    print (\"notificar_sentencia_de_remate_5_días\")\n",
    "    print (\"inhibición\")\n",
    "    print (\"oficio_registro_público\")\n",
    "    print (\"notificar_inhibición\")\n",
    "\n",
    "juicio_ejecutivo_cheque_insolvente()"
   ]
  },
  {
   "cell_type": "markdown",
   "metadata": {},
   "source": [
    "## Parametros y argumentos"
   ]
  },
  {
   "cell_type": "code",
   "execution_count": 49,
   "metadata": {},
   "outputs": [
    {
     "name": "stdout",
     "output_type": "stream",
     "text": [
      "Pedir un lavarropas de la marca toshiba o tokyo\n",
      "pagar\n",
      "Pedir un lavarropas de la marca midas o samsung\n",
      "pagar\n"
     ]
    }
   ],
   "source": [
    "def comprar_lavarropas(marca_uno, marca_dos, kg): # definimos nuestra funcion, le asignamos un nombre y agregamos los parametros\n",
    "    print(f\"Pedir un lavarropas de la marca {marca_uno} o {marca_dos}\")\n",
    "    print(\"pagar\")\n",
    "\n",
    "comprar_lavarropas(\"toshiba\",\"tokyo\") # llamamos la funcion y le pasamos argumentos\n",
    "comprar_lavarropas(\"midas\",\"samsung\") # llamamos la funcion y le pasamos argumentos"
   ]
  },
  {
   "cell_type": "code",
   "execution_count": 52,
   "metadata": {},
   "outputs": [
    {
     "name": "stdout",
     "output_type": "stream",
     "text": [
      "somos la mesa 4 y estamos Emma y Blanca\n"
     ]
    }
   ],
   "source": [
    "def integrantes_de_mesa(num_mesa, integrante1, integrante2): # definimos nuestra funcion, le asignamos un nombre y agregamos los parametros\n",
    "    print(f\"somos la mesa {num_mesa} y estamos {integrante1} y {integrante2}\")\n",
    "\n",
    "integrantes_de_mesa(4, \"Emma\", \"Blanca\") # llamamos la funcion y le pasamos argumentos"
   ]
  },
  {
   "cell_type": "markdown",
   "metadata": {},
   "source": [
    "## Challenge 🤺 - 15m\n",
    "\n",
    "Dada la función que acabamos de crear, definir un parametro mas sobre el lavarropas que quiere comprar y concatenar."
   ]
  },
  {
   "cell_type": "markdown",
   "metadata": {},
   "source": [
    "## Solucion de Sofi 🤙🏻"
   ]
  },
  {
   "cell_type": "code",
   "execution_count": 53,
   "metadata": {},
   "outputs": [
    {
     "name": "stdout",
     "output_type": "stream",
     "text": [
      "Graciela desea adquirir un lavarropas whirlpool, con una capacidad de 8 kilos, a un precio aproximado de 4.000.000 de Gs.\n"
     ]
    }
   ],
   "source": [
    "def compar_un_lavarropas(marca, capacidad, precio): #Paramatros, los datos que te pide\n",
    "    print(f\"Graciela desea adquirir un lavarropas {marca}, con una capacidad de {capacidad}, a un precio aproximado de {precio}\")\n",
    "\n",
    "\n",
    "compar_un_lavarropas(\"whirlpool\", \"8 kilos\", \"4.000.000 de Gs.\")"
   ]
  },
  {
   "cell_type": "markdown",
   "metadata": {},
   "source": [
    "## Solucion de Mel 🚀"
   ]
  },
  {
   "cell_type": "code",
   "execution_count": 54,
   "metadata": {},
   "outputs": [
    {
     "name": "stdout",
     "output_type": "stream",
     "text": [
      "Comprar lavarropas automatica y de color plateado\n",
      "Comprar lavarropas semi_automatica y de color blanco\n",
      "Comprar lavarropas manual y de color negro\n"
     ]
    }
   ],
   "source": [
    "def Comprar_lavarropas (Tipo, Color):\n",
    "    print (f\"Comprar lavarropas {Tipo} y de color {Color}\") #parametros son tipo y color\n",
    "\n",
    "Comprar_lavarropas(\"automatica\", \"plateado\") #argumentos son estos datos\n",
    "Comprar_lavarropas(\"semi_automatica\", \"blanco\")\n",
    "Comprar_lavarropas(\"manual\", \"negro\")"
   ]
  },
  {
   "cell_type": "code",
   "execution_count": null,
   "metadata": {},
   "outputs": [],
   "source": [
    "input(\"ingrese su edad\")\n",
    "type(cantidad)\n",
    "print(\"esto imprime algo\")"
   ]
  },
  {
   "cell_type": "markdown",
   "metadata": {},
   "source": [
    "## Scope o alcance"
   ]
  },
  {
   "cell_type": "code",
   "execution_count": 64,
   "metadata": {},
   "outputs": [
    {
     "name": "stdout",
     "output_type": "stream",
     "text": [
      "12\n",
      "mi lavarropas es de 12 kg\n",
      "mi lavarropas es de 15 kg\n"
     ]
    }
   ],
   "source": [
    "valor_kg = input(\"ingrese un valor\") # ingresar el valor de kg de un lavarropas\n",
    "print(valor_kg) # imprimimos la variable con el valor\n",
    "otro_valor = 15 # definimos una variable con otro valor\n",
    "#print(f\"ahora valgo valor_kg: {valor_kg}\")\n",
    "def kg_lavarropas(kilogramos): # definimos nuestra funcion con el parametro kilogramos\n",
    "    print(f\"mi lavarropas es de {kilogramos} kg\")\n",
    "\n",
    "kg_lavarropas(valor_kg) # le pasamos la variable definida anteriormente como argumento\n",
    "kg_lavarropas(otro_valor) # le pasamos la variable definida anteriormente como argumento\n",
    "\n",
    "#print(f\"mi lavarropas es de {valor_kg} valor_kg\")"
   ]
  },
  {
   "cell_type": "markdown",
   "metadata": {},
   "source": [
    "## Condicionales"
   ]
  },
  {
   "cell_type": "code",
   "execution_count": 76,
   "metadata": {},
   "outputs": [
    {
     "name": "stdout",
     "output_type": "stream",
     "text": [
      "necesitas mostrar tu cedula\n"
     ]
    }
   ],
   "source": [
    "# operadores logicos\n",
    "\n",
    "# mayor a >\n",
    "# mayor o igual >=\n",
    "# menor a <\n",
    "# menor o igual <=\n",
    "# igual ==\n",
    "\n",
    "edad = 18 # definimos la variable que contiene la edad del usuario\n",
    "menor_de_edad = edad < 18 # verificamos si es menor de edad y asignamos el resultado a una variable\n",
    "tiene_cedula = False # verificamos si tiene cedula\n",
    "\n",
    "# utilizamos las condicionales para verificar si puede o no ingresar a un lugar\n",
    "if menor_de_edad: \n",
    "    print(\"es menor, no puede ingresar\")\n",
    "elif not tiene_cedula:\n",
    "    print(\"necesitas mostrar tu cedula\")\n",
    "else:\n",
    "    print(\"es mayor, puede ingresar\")"
   ]
  }
 ],
 "metadata": {
  "kernelspec": {
   "display_name": "Python 3.10.4 64-bit",
   "language": "python",
   "name": "python3"
  },
  "language_info": {
   "codemirror_mode": {
    "name": "ipython",
    "version": 3
   },
   "file_extension": ".py",
   "mimetype": "text/x-python",
   "name": "python",
   "nbconvert_exporter": "python",
   "pygments_lexer": "ipython3",
   "version": "3.10.4"
  },
  "orig_nbformat": 4,
  "vscode": {
   "interpreter": {
    "hash": "e593ac106456af50ce7af38f9671c411b49d6cd90f9b885e167f0f594e09038c"
   }
  }
 },
 "nbformat": 4,
 "nbformat_minor": 2
}
