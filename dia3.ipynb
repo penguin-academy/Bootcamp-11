{
 "cells": [
  {
   "cell_type": "markdown",
   "metadata": {},
   "source": [
    "## Funciones: Return"
   ]
  },
  {
   "cell_type": "code",
   "execution_count": 5,
   "metadata": {},
   "outputs": [
    {
     "name": "stdout",
     "output_type": "stream",
     "text": [
      "las letras son iguales\n"
     ]
    }
   ],
   "source": [
    "def comparador_de_letras(letra1, letra2):\n",
    "    if letra1 == letra2:\n",
    "        return True\n",
    "    else:\n",
    "        return False\n",
    "\n",
    "comparador_de_letras(input(\"Ingrese la primera letra\"),input(\"Ingrese la segunda letra\"))\n",
    "\n",
    "letras_iguales = comparador_de_letras(\"a\", \"a\")\n",
    "\n",
    "if letras_iguales:\n",
    "    print(\"las letras son iguales\")\n",
    "else:\n",
    "    print(\"las letras no son iguales\")"
   ]
  },
  {
   "cell_type": "code",
   "execution_count": 12,
   "metadata": {},
   "outputs": [
    {
     "name": "stdout",
     "output_type": "stream",
     "text": [
      "yo valgo 14\n",
      "12\n"
     ]
    }
   ],
   "source": [
    "def numero_sumado(num1, num2): # definimos nuestra funcion y le pedimos dos parametros\n",
    "    sum = num1 + num2  # sumamos los parametros y guardamos dentro la variable sum\n",
    "    return sum  # retornamos la variable sum\n",
    "\n",
    "numero = numero_sumado(8,6)\n",
    "print(f\"yo valgo {numero}\")\n",
    "\n",
    "resta = numero - 2\n",
    "print(resta)\n"
   ]
  },
  {
   "cell_type": "markdown",
   "metadata": {},
   "source": [
    "## Challenge 3 🤺 - 15m\n",
    "\n",
    "Crear una función que reciba dos parámetros (una palabra y un número), y que devuelva `True` si el número es igual a la cantidad de letras de la palabra. En caso contrario, que devuelva `False`.\n",
    "\n",
    "Pista: `cantidad de letras de una palabra en python`"
   ]
  },
  {
   "cell_type": "markdown",
   "metadata": {},
   "source": [
    "## Solucion de Kata 🖤"
   ]
  },
  {
   "cell_type": "code",
   "execution_count": 14,
   "metadata": {},
   "outputs": [
    {
     "data": {
      "text/plain": [
       "False"
      ]
     },
     "execution_count": 14,
     "metadata": {},
     "output_type": "execute_result"
    }
   ],
   "source": [
    "def comparar (palabra,numero):\n",
    "    if len (palabra)==numero:\n",
    "        return True\n",
    "    else: \n",
    "        return False\n",
    "\n",
    "letras=input(\"ingrese letra\")\n",
    "numerico=int (input(\"ingrese su numero\"))\n",
    "comparar (letras, numerico)"
   ]
  },
  {
   "cell_type": "markdown",
   "metadata": {},
   "source": [
    "## Solucion de Ara 🍮"
   ]
  },
  {
   "cell_type": "code",
   "execution_count": 15,
   "metadata": {},
   "outputs": [
    {
     "name": "stdout",
     "output_type": "stream",
     "text": [
      "False\n"
     ]
    }
   ],
   "source": [
    "#Notitas para Ara del futuro que se va a olvidar de todo\n",
    "def comparador(palabra, numero):  #Acá definimos la funcion de comparacion con los parametros que deseo recibir\n",
    "    if len(palabra) == numero: #En este if comparamos si la cantidad de letras que contiene la palabra ingresada es igual al número ingresado\n",
    "        return True             #Si se cumple la condicion de arriba devuelve el booleano True\n",
    "    else:\n",
    "        return False            #Si no se cumple el if devuelve el booleano False\n",
    "\n",
    "#Aca hice todo en una linea, defini una variable, cuyo valor va a ser igual al valor que devuelva la funcion\n",
    "#La función solamente se ejecuta cuando se le llama\n",
    "#La funcion está siendo llamada en esa misma línea, con el input correspondiente para el ingreso de datos para ser usados como parametros\n",
    "\n",
    "cosita = comparador(input(\"Ingrese una palabra\"),int(input(\"Ingrese un numero\")))\n",
    "\n",
    "#Imprimo lo que vale la variable cosita, en este caso un booleano porque eso es lo que devuelve mi funcion\n",
    "print(cosita)\n"
   ]
  },
  {
   "cell_type": "markdown",
   "metadata": {},
   "source": [
    "## Solucion de Ale 🍔"
   ]
  },
  {
   "cell_type": "code",
   "execution_count": 18,
   "metadata": {},
   "outputs": [
    {
     "data": {
      "text/plain": [
       "9"
      ]
     },
     "execution_count": 18,
     "metadata": {},
     "output_type": "execute_result"
    }
   ],
   "source": [
    "palabra = input (\" Ingrese la palabra\")\n",
    "numero = int (input (\" Ingrese el numero\"))\n",
    "\n",
    "def funcion (palabra, numero):\n",
    "    cantidad = len(palabra)\n",
    "    valor = cantidad == numero ##\n",
    "    return valor\n",
    "\n",
    "\n",
    "funcion (palabra, numero)"
   ]
  },
  {
   "cell_type": "markdown",
   "metadata": {},
   "source": [
    "## Challenge 4 🤺 - 20 min\n",
    "Crear función que revise si una palabra contiene una letra. En caso de que la contenga, retornar la letra entre corchetes `[]`. De lo contrario, retornar solo la letra."
   ]
  },
  {
   "cell_type": "code",
   "execution_count": 19,
   "metadata": {},
   "outputs": [
    {
     "name": "stdout",
     "output_type": "stream",
     "text": [
      "True\n"
     ]
    }
   ],
   "source": [
    "palabra = \"casa\"\n",
    "letra = \"a\"\n",
    "\n",
    "letra_existe = letra in palabra\n",
    "print(letra_existe)"
   ]
  },
  {
   "cell_type": "code",
   "execution_count": 22,
   "metadata": {},
   "outputs": [
    {
     "name": "stdout",
     "output_type": "stream",
     "text": [
      "[ a ]\n",
      "[ d ]\n",
      "[ d ]\n",
      "[ o ]\n"
     ]
    },
    {
     "data": {
      "text/plain": [
       "'y'"
      ]
     },
     "execution_count": 22,
     "metadata": {},
     "output_type": "execute_result"
    }
   ],
   "source": [
    "def verificar_letra(letra, palabra):\n",
    "    if letra in palabra:\n",
    "        print(f\"[ {letra} ]\")\n",
    "        return f\"[ {letra} ]\"\n",
    "    else:\n",
    "        return letra\n",
    "\n",
    "verificar_letra(\"a\",\"casa\")\n",
    "una_funcion = verificar_letra(\"d\",\"dedo\")\n",
    "print(una_funcion)\n",
    "verificar_letra(\"o\",\"bosque\")\n",
    "verificar_letra(\"y\",\"hojas\")"
   ]
  },
  {
   "cell_type": "code",
   "execution_count": 25,
   "metadata": {},
   "outputs": [
    {
     "name": "stdout",
     "output_type": "stream",
     "text": [
      "traje\n",
      "abajo\n",
      "['t', 'r', 'a', 'j', 'e']\n",
      "['a', 'b', 'a', 'j', 'o']\n"
     ]
    }
   ],
   "source": [
    "palabra_a_encontrar = input(\"Ingrese una palabra\")\n",
    "print(palabra_a_encontrar)\n",
    "\n",
    "palabra_ingresada = input(\"INgrese otra palabra\")\n",
    "print(palabra_ingresada)\n",
    "\n",
    "lista_de_letras_de_la_palabra_a_encontrar = list(palabra_a_encontrar)\n",
    "print(lista_de_letras_de_la_palabra_a_encontrar)\n",
    "\n",
    "lista_de_letras_de_la_palabra_ingresada = list(palabra_ingresada)\n",
    "print(lista_de_letras_de_la_palabra_ingresada)"
   ]
  },
  {
   "cell_type": "markdown",
   "metadata": {},
   "source": [
    "## Challenge 5 🤺 - 20m\n",
    "\n",
    "Pedir al usuario que ingrese 1 palabra, luego convertir esa palabra a una lista con sus caracteres con `list()`. Agregar esa lista de caracteres a una lista llamada `palabras_ingresadas`. Repetir el proceso 3 veces. Cada vez que se agregue una lista de caracteres, imprimir la lista `palabras_ingresadas`.\n",
    "\n",
    "\n",
    "Ejemplo del resultado esperado:\n",
    "\n",
    "```[['c', 'i', 'e', 'l', 'o']]``` # Al ingresar la primera palabra\n",
    "\n",
    "```[['c', 'i', 'e', 'l', 'o'], ['c', 'a', 'l', 'o', 'r']]``` # Al ingresar la segunda palabra\n",
    "\n",
    "```[['c', 'i', 'e', 'l', 'o'], ['c', 'a', 'l', 'o', 'r'], ['n', 'u', 'b', 'e', 's']]``` # Al ingresar la tercera palabra"
   ]
  },
  {
   "cell_type": "markdown",
   "metadata": {},
   "source": [
    "## Solucion de Zandra 😁"
   ]
  },
  {
   "cell_type": "code",
   "execution_count": 26,
   "metadata": {},
   "outputs": [
    {
     "name": "stdout",
     "output_type": "stream",
     "text": [
      "[['p', 'e', 'r', 'r', 'o']]\n",
      "[['p', 'e', 'r', 'r', 'o'], ['g', 'a', 't', 'o']]\n",
      "[['p', 'e', 'r', 'r', 'o'], ['g', 'a', 't', 'o'], ['c', 'a', 's', 'a']]\n"
     ]
    }
   ],
   "source": [
    "palabras_ingresadas = []\n",
    "ingrese_su_palabra = 1\n",
    "while ingrese_su_palabra <= 3:\n",
    "    palabra_solicitada = input(\"Ingrese una palabra\")\n",
    "    lista = list(palabra_solicitada)\n",
    "    palabras_ingresadas.append (lista)\n",
    "    print(palabras_ingresadas)\n",
    "    ingrese_su_palabra = ingrese_su_palabra + 1"
   ]
  },
  {
   "cell_type": "markdown",
   "metadata": {},
   "source": [
    "## Solucion de Priss ⭐"
   ]
  },
  {
   "cell_type": "code",
   "execution_count": 27,
   "metadata": {},
   "outputs": [
    {
     "name": "stdout",
     "output_type": "stream",
     "text": [
      "[['a', 'n', 'a']]\n",
      "['b', 'r', 'i', 't', 'e', 'z']]\n",
      "[['a', 'n', 'a'], ['b', 'r', 'i', 't', 'e', 'z'], ['i', 's', 's', 'i', 's']]\n"
     ]
    }
   ],
   "source": [
    "# 1. Pedir al usuario que escriba una palabra\n",
    "# 2. Esa palabra ingresada, se tiene que deletrear con list\n",
    "# 3. Luego el primer deletreo tiene que estar en una lista de variable llamada lista?ingresada\n",
    "\n",
    "escribir_palabra = list(input(\"Escriba su nombre\"))\n",
    "print(f\"[{escribir_palabra}]\")\n",
    "\n",
    "#deletrear = list(escribir_palabra)\n",
    "#print(deletrear)\n",
    "\n",
    "lista_ingresada = list(input(\"Escriba su apellido\"))\n",
    "print(f\"{lista_ingresada}]\")\n",
    "\n",
    "lista_animal = list(input(\"Escriba el nombre de su mascota\"))\n",
    "#print(lista_animal)\n",
    "\n",
    "print(f\"[{escribir_palabra}, {lista_ingresada}, {lista_animal}]\")"
   ]
  },
  {
   "cell_type": "markdown",
   "metadata": {},
   "source": [
    "## Funcion verificadora \n",
    "\n",
    "- Crear una lista vacia `letras_verificadas` para las letras de la palabra luego de verificar\n",
    "- Definir la cantidad de letras de la palabra a encontrar \n",
    "- Si la letra existe en la palabra a encontrar y su posicion coincide vamos a : encerrar entre `[]` y agregar el resultado \n",
    "- Si la letra existe pero su posicion no coincide vamos a: encerrar entre `()` y agregar el resultado\n",
    "- Si no se cumpleninguna de las anteriores,agregar la letra sin modificar \n",
    "- Retornamos el resultado "
   ]
  },
  {
   "cell_type": "code",
   "execution_count": 28,
   "metadata": {},
   "outputs": [],
   "source": [
    "def obtener_fila_verificada(palabra_a_encontrar, palabra_ingresada):\n",
    "    cantidad_de_letras_de_palabra_a_encontrar = 5\n",
    "\n",
    "    letras_verificadas = []\n",
    "\n",
    "    for posicion in range(cantidad_de_letras_de_palabra_a_encontrar):\n",
    "\n",
    "        las_letras_son_iguales = palabra_a_encontrar[posicion] == palabra_ingresada[posicion]\n",
    "\n",
    "        las_letras_existen = palabra_ingresada[posicion] in palabra_a_encontrar\n",
    "\n",
    "        if las_letras_son_iguales:\n",
    "            letras_verificadas.append(f\"[{palabra_ingresada[posicion]}]\")\n",
    "        elif las_letras_existen:\n",
    "            letras_verificadas.append(f\"({palabra_ingresada[posicion]})\")\n",
    "        else:\n",
    "            letras_verificadas.append(palabra_ingresada[posicion])\n",
    "\n",
    "    return letras_verificadas"
   ]
  },
  {
   "cell_type": "markdown",
   "metadata": {},
   "source": [
    "## Probamos nuestra funcion y rezamos para que funcione"
   ]
  },
  {
   "cell_type": "code",
   "execution_count": 31,
   "metadata": {},
   "outputs": [
    {
     "name": "stdout",
     "output_type": "stream",
     "text": [
      "['c', 'i', '[r]', 'c', '[o]']\n"
     ]
    }
   ],
   "source": [
    "palabra_secreta = input(\"ingrese una palabra: \")\n",
    "palabra_del_usuario = input(\"Ingrese otra palabra: \")\n",
    "\n",
    "linea_verificada = obtener_fila_verificada(palabra_secreta, palabra_del_usuario)\n",
    "print(linea_verificada)"
   ]
  },
  {
   "cell_type": "markdown",
   "metadata": {},
   "source": [
    "## Challenge 6 🤺 - 20m\n",
    "\n",
    "Dada la lista de ejemplo: \n",
    "\n",
    "lista = [['h', 'o', 'l', 'i', 's'], ['h', 'e', 'l', 'l', 'o'], ['h', 'a', 'l', 'l', 'o']]\n",
    "\n",
    "Crear una función que imprima una grilla (lista de listas), una línea por cada lista dentro de la lista principal.\n",
    "\n",
    "Ejemplo del resultado esperado:\n",
    "\n",
    "```\n",
    "['h', 'o', 'l', 'i', 's']\n",
    "['h', 'e', 'l', 'l', 'o']\n",
    "['h', 'a', 'l', 'l', 'o']\n",
    "```"
   ]
  },
  {
   "cell_type": "markdown",
   "metadata": {},
   "source": [
    "## Solucion de Alicia ✔"
   ]
  },
  {
   "cell_type": "code",
   "execution_count": 32,
   "metadata": {},
   "outputs": [
    {
     "name": "stdout",
     "output_type": "stream",
     "text": [
      "['h', 'o', 'l', 'i', 's']\n",
      "['h', 'e', 'l', 'l', 'o']\n",
      "['h', 'a', 'l', 'l', 'o']\n"
     ]
    }
   ],
   "source": [
    "lista = [['h', 'o', 'l', 'i', 's'], ['h', 'e', 'l', 'l', 'o'], ['h', 'a', 'l', 'l', 'o']]\n",
    "\n",
    "def imprimir_una_grilla (listas):\n",
    "    for ordenador in listas:\n",
    "        print(ordenador)\n",
    "\n",
    "imprimir_una_grilla(lista)"
   ]
  },
  {
   "cell_type": "markdown",
   "metadata": {},
   "source": [
    "## Solucion de Amanda 🎂"
   ]
  },
  {
   "cell_type": "code",
   "execution_count": 35,
   "metadata": {},
   "outputs": [
    {
     "name": "stdout",
     "output_type": "stream",
     "text": [
      "3\n",
      "0\n",
      "['h', 'o', 'l', 'i', 's']\n",
      "1\n",
      "['h', 'e', 'l', 'l', 'o']\n",
      "2\n",
      "['h', 'a', 'l', 'l', 'o']\n"
     ]
    }
   ],
   "source": [
    "datos = [['h', 'o', 'l', 'i', 's'], ['h', 'e', 'l', 'l', 'o'], ['h', 'a', 'l', 'l', 'o']] # aquí creamos los datos dentro de un corchete general y luego cada grupo de listas dentro de los corchetes\n",
    "def grilla(lista): # esta es la función donde vamos a crear la iteración posición para que recorra por cada una de las listas \n",
    "    cantidad_de_elementos = len(lista)\n",
    "    print(cantidad_de_elementos)\n",
    "    for posicion in range(cantidad_de_elementos): # iterador \n",
    "        print(posicion)\n",
    "        print(lista[posicion])\n",
    "grilla(datos)"
   ]
  },
  {
   "cell_type": "code",
   "execution_count": 36,
   "metadata": {},
   "outputs": [
    {
     "name": "stdout",
     "output_type": "stream",
     "text": [
      "te quedan 3 intentos.\n",
      "perro\n",
      "te quedan 2 intentos.\n",
      "gato\n",
      "te quedan 1 intentos.\n",
      "casa\n",
      "Ya no te quedan intentos.\n"
     ]
    }
   ],
   "source": [
    "intentos = 3\n",
    "\n",
    "while intentos > 0:\n",
    "    print(f\"te quedan {intentos} intentos.\")\n",
    "    palabra = input(\"Ingrese una palabra\")\n",
    "    intentos =intentos - 1\n",
    "    print(palabra)\n",
    "print(\"Ya no te quedan intentos.\")"
   ]
  },
  {
   "cell_type": "markdown",
   "metadata": {},
   "source": [
    "# ¿Y si unimos todo? 💥💥💥💥💥💥💥 - 1h"
   ]
  },
  {
   "cell_type": "markdown",
   "metadata": {},
   "source": [
    "## Wordle Blanqui 🎉"
   ]
  },
  {
   "cell_type": "code",
   "execution_count": 37,
   "metadata": {},
   "outputs": [
    {
     "name": "stdout",
     "output_type": "stream",
     "text": [
      "['[c]', 'a', '[r]', '(r)', '[o]']\n",
      "['p', 'e', '[r]', '(r)', '[o]']\n",
      "['[c]', '[i]', '[r]', '[c]', '[o]']\n",
      "['[c]', '[i]', '[r]', '[c]', '[o]']\n",
      "['[c]', '[i]', '[r]', '[c]', '[o]']\n"
     ]
    }
   ],
   "source": [
    "def verificar_filas(palabra_secreta, palabra_ingresada):\n",
    "    letras_verificadas = []\n",
    "    cant_letras_a_encontrar = 5\n",
    "    for posicion in range(cant_letras_a_encontrar):\n",
    "        if palabra_ingresada[posicion] == palabra_secreta[posicion]:\n",
    "            letras_verificadas.append(f\"[{palabra_ingresada[posicion]}]\")\n",
    "        elif palabra_ingresada[posicion] in palabra_secreta:\n",
    "            letras_verificadas.append(f\"({palabra_ingresada[posicion]})\")\n",
    "        else:\n",
    "            letras_verificadas.append(palabra_ingresada[posicion])\n",
    "\n",
    "    return letras_verificadas\n",
    "\n",
    "\n",
    "secret_word = \"circo\"\n",
    "for i in range(5):\n",
    "    cajita_palabra = input(\"Ingrese la palabra:\")\n",
    "    lista = verificar_filas(secret_word, cajita_palabra)\n",
    "    print(lista)\n"
   ]
  },
  {
   "cell_type": "markdown",
   "metadata": {},
   "source": [
    "## Wordle Mel 🎉"
   ]
  },
  {
   "cell_type": "code",
   "execution_count": 38,
   "metadata": {},
   "outputs": [
    {
     "name": "stdout",
     "output_type": "stream",
     "text": [
      "['[p]', '(o)', '[r]', '[r]', 'a']\n"
     ]
    }
   ],
   "source": [
    "def verificar_letras(palabra_secreta, palabra_ingresada): #creamos la funcion y denominamos los parametros\n",
    "    letras_verificadas = []\n",
    "    cantidad_letras_palabra_secreta = 5\n",
    "    for posicion in range(cantidad_letras_palabra_secreta): #esto sirve para contar la cantidad de letras en la palabra\n",
    "        letras_iguales = palabra_secreta[posicion] == palabra_ingresada[posicion]\n",
    "        letras_existen = palabra_ingresada[posicion] in palabra_secreta\n",
    "        if letras_iguales:\n",
    "            letras_verificadas.append(f\"[{palabra_ingresada[posicion]}]\") #esto es para destacar la letra correcta entre []\n",
    "        elif letras_existen:\n",
    "            letras_verificadas.append(f\"({palabra_ingresada[posicion]})\")\n",
    "        else:\n",
    "            letras_verificadas.append(palabra_ingresada[posicion])\n",
    "    return letras_verificadas\n",
    "\n",
    "verificar_letras(\"perro\", \"porra\")\n",
    "\n",
    "wordle =  verificar_letras(\"perro\", \"porra\")\n",
    "print(wordle)\n"
   ]
  },
  {
   "cell_type": "markdown",
   "metadata": {},
   "source": [
    "# Wordle Jaz 🎉"
   ]
  },
  {
   "cell_type": "code",
   "execution_count": 39,
   "metadata": {},
   "outputs": [
    {
     "name": "stdout",
     "output_type": "stream",
     "text": [
      "\n",
      "--------------------------------------\n",
      "['[p]', 'e', 'r', 'r', 'o']\n",
      "--------------------------------------\n",
      "\n",
      "--------------------------------------\n",
      "['[p]', 'e', 'r', 'r', 'o']\n",
      "['c', 'a', 'r', '(n)', 'e']\n",
      "--------------------------------------\n",
      "---------------------------------------------\n",
      "\n",
      "Adivinaste! La palabra secreta es [pinwi]\n",
      " b \n"
     ]
    }
   ],
   "source": [
    "# -------------------------------------------------------------------------------\n",
    "\n",
    "# Funcion que verifica las letras de la palabra ingresada\n",
    "def verificar_palabra(letras_verificadas, palabra_secreta, palabra_ingresada): \n",
    "\n",
    "    letras_verificadas = []\n",
    "\n",
    "    for i in range (len(palabra_ingresada)): \n",
    "\n",
    "        # Si las letras y posiciones son las mismas \n",
    "        if (palabra_ingresada[i] == palabra_secreta[i]): \n",
    "            letras_verificadas.append(f\"[{palabra_ingresada[i]}]\")\n",
    "\n",
    "        # Si la letra existe pero no esta en la posicion correcta \n",
    "        elif (palabra_ingresada[i] in palabra_secreta): \n",
    "            letras_verificadas.append (f\"({palabra_ingresada[i]})\")\n",
    "\n",
    "        # Si la letra no existe en la palabra \n",
    "        else: \n",
    "            letras_verificadas.append (palabra_ingresada[i])\n",
    "\n",
    "    return letras_verificadas\n",
    "\n",
    "# -------------------------------------------------------------------------------\n",
    "\n",
    "# Funcion para la impresion del cuadrito! \n",
    "def imprimir_cuadro (lista): \n",
    "    print(\"\\n--------------------------------------\")\n",
    "    for i in lista: \n",
    "        print (i)\n",
    "    print(\"--------------------------------------\")\n",
    "\n",
    "# -------------------------------------------------------------------------------\n",
    "# Inicializacion de variables \n",
    "i = 0\n",
    "intentos = 3 \n",
    "palabra_encontrada = False \n",
    "palabra_secreta = \"pinwi\"\n",
    "\n",
    "# Declaracion de listas\n",
    "palabras_verificadas = []\n",
    "letras_verificadas = []\n",
    "\n",
    "# -------------------------------------------------------------------------------\n",
    "\n",
    "# Ciclo principal \n",
    "while (i < intentos): \n",
    "    palabra_ingresada = input(f\"Ingrese una palabra de {len(palabra_secreta)} letras \")\n",
    "\n",
    "    if (palabra_ingresada == palabra_secreta): \n",
    "        print(\"---------------------------------------------\")\n",
    "        print(f\"\\nAdivinaste! La palabra secreta es [{palabra_ingresada}]\\n b \")\n",
    "        palabra_encontrada = True \n",
    "        break; \n",
    "    else: \n",
    "        if (len(palabra_ingresada) == len(palabra_secreta)): \n",
    "            letras_verificadas = verificar_palabra(letras_verificadas, palabra_secreta, palabra_ingresada)\n",
    "            palabras_verificadas.append(letras_verificadas)\n",
    "            imprimir_cuadro(palabras_verificadas)\n",
    "            i = i + 1\n",
    "        else:\n",
    "            print(\"Error: La palabra no tiene 5 letras! \")\n",
    "\n",
    "if (not palabra_encontrada): \n",
    "    print(f\"\\nLo siento! Te quedaste sin intentos. La palabra era [{palabra_secreta}] \\n\")\n",
    "\n",
    "# ------------------------------------------------------------------------------- "
   ]
  },
  {
   "cell_type": "markdown",
   "metadata": {},
   "source": [
    "## Wordle Ara 🎉"
   ]
  },
  {
   "cell_type": "code",
   "execution_count": 40,
   "metadata": {},
   "outputs": [
    {
     "name": "stdout",
     "output_type": "stream",
     "text": [
      "Bienvenida al Wordle!! Empieza el juego ..... \n",
      "['[t]', '[r]', '[a]', '(t)', 'o']\n",
      "Te quedan 5 intentos\n",
      "['p', '(e)', '(r)', '(r)', 'o']\n",
      "Te quedan 4 intentos\n",
      "['c', '(a)', '(r)', '(r)', 'o']\n",
      "Te quedan 3 intentos\n",
      "['c', '(a)', '(r)', 'n', '[e]']\n",
      "Te quedan 2 intentos\n",
      "['[t]', '[r]', '[a]', '[j]', '[e]']\n",
      "FELICIDADES GANADORAA!!!\n"
     ]
    }
   ],
   "source": [
    "def verificador_de_fila(palabra_a_adivinar, palabra_ingresada):\n",
    "    cantidad_de_letras_de_palabra_a_adivinar = 5\n",
    "\n",
    "    letras_verificadas = []\n",
    "\n",
    "    for posicion in range(cantidad_de_letras_de_palabra_a_adivinar):\n",
    "        las_letras_son_iguales = palabra_a_adivinar[posicion] == palabra_ingresada[posicion]\n",
    "\n",
    "        las_letras_existen = palabra_ingresada[posicion] in palabra_a_adivinar\n",
    "\n",
    "        if las_letras_son_iguales:\n",
    "            letras_verificadas.append(f\"[{palabra_ingresada[posicion]}]\")\n",
    "        elif las_letras_existen:\n",
    "            letras_verificadas.append(f\"({palabra_ingresada[posicion]})\")\n",
    "        else:\n",
    "            letras_verificadas.append(palabra_ingresada[posicion])\n",
    "    return letras_verificadas\n",
    "\n",
    "def verificador_de_cantidad_de_letras_por_palabras(palabra_cualquiera):\n",
    "    if len(palabra_cualquiera) > 5 or len(palabra_cualquiera) < 5 :\n",
    "        input(f\"La palabra debe contener 5 letras, volver a ingresar {palabra_cualquiera}\")\n",
    "    else:\n",
    "        return palabra_cualquiera\n",
    "\n",
    "\n",
    "\n",
    "print(\"Bienvenida al Wordle!! Empieza el juego ..... \")\n",
    "\n",
    "lista_para_palabras = []\n",
    "\n",
    "cantidad_de_palabras = 6\n",
    "\n",
    "palabra_a_adivinar = verificador_de_cantidad_de_letras_por_palabras( input(\"Ingrese la palabra secreta: \"))\n",
    "\n",
    "while cantidad_de_palabras > 0 :\n",
    "\n",
    "    palabra_ingresada = verificador_de_cantidad_de_letras_por_palabras( input(\"Adivina!!: \"))\n",
    "\n",
    "    resultado = verificador_de_fila(palabra_a_adivinar, palabra_ingresada)\n",
    "\n",
    "    lista_de_palabras_ingresadas = resultado\n",
    "\n",
    "    print(lista_de_palabras_ingresadas)\n",
    "\n",
    "    if palabra_a_adivinar == palabra_ingresada:\n",
    "        print(\"FELICIDADES GANADORAA!!!\")\n",
    "        break\n",
    "\n",
    "    cantidad_de_palabras = cantidad_de_palabras - 1\n",
    "\n",
    "    print(f\"Te quedan {cantidad_de_palabras} intentos\")"
   ]
  }
 ],
 "metadata": {
  "kernelspec": {
   "display_name": "Python 3.10.4 64-bit",
   "language": "python",
   "name": "python3"
  },
  "language_info": {
   "codemirror_mode": {
    "name": "ipython",
    "version": 3
   },
   "file_extension": ".py",
   "mimetype": "text/x-python",
   "name": "python",
   "nbconvert_exporter": "python",
   "pygments_lexer": "ipython3",
   "version": "3.10.4"
  },
  "orig_nbformat": 4,
  "vscode": {
   "interpreter": {
    "hash": "e593ac106456af50ce7af38f9671c411b49d6cd90f9b885e167f0f594e09038c"
   }
  }
 },
 "nbformat": 4,
 "nbformat_minor": 2
}
