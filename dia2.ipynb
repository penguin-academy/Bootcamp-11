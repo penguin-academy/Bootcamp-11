{
 "cells": [
  {
   "cell_type": "markdown",
   "metadata": {},
   "source": [
    "## Condicionales"
   ]
  },
  {
   "cell_type": "code",
   "execution_count": 3,
   "metadata": {},
   "outputs": [
    {
     "name": "stdout",
     "output_type": "stream",
     "text": [
      "activo laboralmente\n"
     ]
    }
   ],
   "source": [
    "edad = 30 # definir la edad del usuario\n",
    "\n",
    "if edad < 18: # determinar si es menor de edad\n",
    "    print(\"no puede trabajar\")\n",
    "elif edad >= 70: # determinar si esta en edad de jubilacion\n",
    "    print(\"Jubilado\")\n",
    "else: # utilizar else como ultima condicion\n",
    "    print(\"activo laboralmente\")"
   ]
  },
  {
   "cell_type": "code",
   "execution_count": 7,
   "metadata": {},
   "outputs": [
    {
     "name": "stdout",
     "output_type": "stream",
     "text": [
      "no trabaja\n"
     ]
    }
   ],
   "source": [
    "edad = 30 \n",
    "trabaja = False # determinar si el usuario trabaja\n",
    "# utilizar elif cuando existe mas de dos condiciones\n",
    "\n",
    "if edad < 18:\n",
    "    print(\"no puede trabajar\")\n",
    "elif edad < 70 and trabaja == True: # utilizar dos validaciones\n",
    "    print(\"Activo Laboralmente\")\n",
    "elif edad >= 70 and trabaja == False: # utilizar dos validaciones\n",
    "    print(\"jubilado\")\n",
    "else:\n",
    "    print(\"no trabaja\")"
   ]
  },
  {
   "cell_type": "markdown",
   "metadata": {},
   "source": [
    "### Challenge 🤺 - 20m\n",
    "\n",
    "Escribir un programa en el que se pregunte al usuario por una temperatura (en grados Celsius), imprima la temperatura escrita, y luego clasificar la temperatura ingresada en los siguientes niveles:\n",
    "\n",
    "Entre -10 y 18 grados, que imprima \"Fresquete\".\n",
    "Entre 19 y 30 grados, que imprima \"Calor'i\".\n",
    "Entre 31 y 45 grados, que imprima \"Hakuuuuuu\".\n",
    "Para todo lo demás, imprimir \"Ñamano mba'e!\"."
   ]
  },
  {
   "cell_type": "markdown",
   "metadata": {},
   "source": [
    "## Solucion de Jaz 🌼"
   ]
  },
  {
   "cell_type": "code",
   "execution_count": 9,
   "metadata": {},
   "outputs": [
    {
     "name": "stdout",
     "output_type": "stream",
     "text": [
      "La temperatura es 18 grados. \n",
      "Hace fresquete (-v-) \n"
     ]
    }
   ],
   "source": [
    "# Funcion que imprime la temperatura actual y clasifica \n",
    "\n",
    "def clasificarTemperatura (temperatura): \n",
    "\n",
    "    print(f\"La temperatura es {temperatura} grados. \")\n",
    "\n",
    "    if temperatura >= -10 and temperatura <= 18: \n",
    "        print(\"Hace fresquete (-v-) \")\n",
    "\n",
    "    elif temperatura >= 19 and temperatura <= 30: \n",
    "        print(\"Hace calor'i 🙂 \")\n",
    "\n",
    "    elif temperatura >= 31 and temperatura <= 45: \n",
    "        print(\"Hakuuuu >:c \")\n",
    "\n",
    "    else: \n",
    "        print(\"Ñamano mba'e  (x.x) \")\n",
    "\n",
    "\n",
    "# Pido los datos al usuario y mando a la funcion que clasificara la temperatura \n",
    "\n",
    "#temperatura = int(input(\"Ingrese la temperatura de hoy en grados celcius \")) \n",
    "clasificarTemperatura(18)"
   ]
  },
  {
   "cell_type": "markdown",
   "metadata": {},
   "source": [
    "## Solucion de Pia 🤩"
   ]
  },
  {
   "cell_type": "code",
   "execution_count": 10,
   "metadata": {},
   "outputs": [
    {
     "name": "stdout",
     "output_type": "stream",
     "text": [
      "12\n",
      "fresquete\n"
     ]
    }
   ],
   "source": [
    "temperatura = int(input(\"¿cuál es la temperatura ideal para vos?\")) \n",
    "print (temperatura)\n",
    "if temperatura >= 10 and temperatura<= 18:\n",
    "    print (\"fresquete\")\n",
    "elif temperatura >= 19 and temperatura<= 30:\n",
    "    print (\"calor`i\")\n",
    "elif temperatura >= 31 and temperatura<= 45:\n",
    "    print (\"hakuuuu\")\n",
    "elif temperatura >= 5 and temperatura<= 9:\n",
    "    print (\"invierno_paraguayo\")\n",
    "grados = \"celsius\""
   ]
  },
  {
   "cell_type": "markdown",
   "metadata": {},
   "source": [
    "## While"
   ]
  },
  {
   "cell_type": "code",
   "execution_count": 12,
   "metadata": {},
   "outputs": [
    {
     "name": "stdout",
     "output_type": "stream",
     "text": [
      "numero\n",
      "numero\n",
      "numero\n",
      "numero\n"
     ]
    }
   ],
   "source": [
    "numero = 1\n",
    "\n",
    "while numero != 0: # mientras numero sea difernte a cero\n",
    "    numero = int(input(\"ingrese un numero\")) # pedir al usuario que ingrese un numero\n",
    "    print(numero)"
   ]
  },
  {
   "cell_type": "code",
   "execution_count": 15,
   "metadata": {},
   "outputs": [
    {
     "name": "stdout",
     "output_type": "stream",
     "text": [
      "contrasenha incorrecta\n",
      "contrasenha incorrecta\n",
      "contrasenha correcta, bienvenida!\n"
     ]
    }
   ],
   "source": [
    "contrasenha = \"Hola123\"\n",
    "\n",
    "\n",
    "while True: # utilizar un bucle infinito\n",
    "    usuario_contrasenha = input(\"ingrese su contrasenha\")\n",
    "    if usuario_contrasenha != contrasenha:\n",
    "        print(\"contrasenha incorrecta\")\n",
    "    else:\n",
    "        print(\"contrasenha correcta, bienvenida!\")\n",
    "        break # cortar el bucle"
   ]
  },
  {
   "cell_type": "markdown",
   "metadata": {},
   "source": [
    "### Challenge 🤺 - 15m\n",
    "Escribir un programa que almacene una contraseña en una variable, y pregunte al usuario por la contraseña hasta que introduzca la contraseña correcta.\n",
    "\n",
    "Cuando el usuario ingrese la contrasena correcta, imprimir un mensaje secreto."
   ]
  },
  {
   "cell_type": "markdown",
   "metadata": {},
   "source": [
    "## Solucion de Priss 👾"
   ]
  },
  {
   "cell_type": "code",
   "execution_count": 17,
   "metadata": {},
   "outputs": [
    {
     "name": "stdout",
     "output_type": "stream",
     "text": [
      "Contraseña incorrecta. Intente de nuevo.\n",
      "Felicidades, ganaste Telebingo.\n"
     ]
    }
   ],
   "source": [
    "contra = \"123456\"\n",
    "contra_mal = input(\"Ingrese una contraseña segura\")\n",
    "\n",
    "\n",
    "while contra != contra_mal:\n",
    "    print(\"Contraseña incorrecta. Intente de nuevo.\")\n",
    "    contra_mal = input(\"Ingrese una contraseña segura\")\n",
    "\n",
    "print(\"Felicidades, ganaste Telebingo.\")\n"
   ]
  },
  {
   "cell_type": "markdown",
   "metadata": {},
   "source": [
    "## Solucion de Blanqui 🤍"
   ]
  },
  {
   "cell_type": "code",
   "execution_count": 27,
   "metadata": {},
   "outputs": [
    {
     "name": "stdout",
     "output_type": "stream",
     "text": [
      "Bienvenida!\n"
     ]
    }
   ],
   "source": [
    "#Escribir un programa que almacene una contraseña en una variable, \n",
    "# y pregunte al usuario por la contraseña hasta que introduzca la contraseña correcta.\n",
    "#Cuando el usuario ingrese la contrasenha correcta, imprimir un mensaje secreto\n",
    "\n",
    "contrasenha_del_usuario = \"franco321\"\n",
    "\n",
    "def verificar_contrasenha(valor):\n",
    "\n",
    "    while valor != contrasenha_del_usuario:\n",
    "        valor = input(\"contrasenha incorrecta, vuelve a intentarlo\")\n",
    "\n",
    "    print(\"Bienvenida!\")\n",
    "\n",
    "contrasenha = input(\"ingrese contrasenha\")\n",
    "verificar_contrasenha( contrasenha )"
   ]
  },
  {
   "cell_type": "markdown",
   "metadata": {},
   "source": [
    "## Listas"
   ]
  },
  {
   "cell_type": "code",
   "execution_count": 39,
   "metadata": {},
   "outputs": [
    {
     "name": "stdout",
     "output_type": "stream",
     "text": [
      "naranjas\n",
      "kiwi\n",
      "sandia\n",
      "['naranjas', 'peras', 'kiwi', 'sandia', 'manzana']\n",
      "['naranjas', 'peras', 'kiwi', 'sandia', 'ciruela']\n",
      "['naranjas', 'kiwi', 'sandia']\n",
      "['naranjas', 'sandia']\n"
     ]
    }
   ],
   "source": [
    "lista_frutas = [\"naranjas\",\"peras\",\"kiwi\",\"sandia\"] # lista de frutas\n",
    "\n",
    "lista_bool = [True, False, True] # lista de booleanos\n",
    "lista_numeros = [1, 2, 3.9, 3] # lista de numero\n",
    "lista_variada = [\"hola\", 9, True] # lista con diferentes tipos de datos\n",
    "\n",
    "# imprimir elementos por su posicion\n",
    "print(lista_frutas[0])\n",
    "print(lista_frutas[2])\n",
    "print(lista_frutas[3])\n",
    "\n",
    "# metodos\n",
    "lista_frutas.append(\"manzana\") # agregar un elemnto a la lista\n",
    "print(lista_frutas)\n",
    "\n",
    "lista_frutas[4] = \"ciruela\" # modificar un elemento de la lista\n",
    "print(lista_frutas)\n",
    "\n",
    "lista_frutas.remove(\"peras\") # eliminar un elemento de la lista por su valor\n",
    "lista_frutas.remove(\"ciruela\")\n",
    "print(lista_frutas)\n",
    "\n",
    "lista_frutas.pop(1) # eliminar un elemento de la lista por su posicion\n",
    "print(lista_frutas)"
   ]
  },
  {
   "cell_type": "markdown",
   "metadata": {},
   "source": [
    "### Challenge 🤺 - 20m\n",
    "\n",
    "Crear una lista de 5 elementos. Luego, seguir los siguientes pasos.\n",
    "\n",
    "- Agregar un elemento al final de la lista.\n",
    "\n",
    "- Modificar el segundo elemento.\n",
    "\n",
    "- Eliminar el tercer elemento."
   ]
  },
  {
   "cell_type": "markdown",
   "metadata": {},
   "source": [
    "## Solucion de Ruth 💐"
   ]
  },
  {
   "cell_type": "code",
   "execution_count": 40,
   "metadata": {},
   "outputs": [
    {
     "name": "stdout",
     "output_type": "stream",
     "text": [
      "['rosa', 'jazmin', 'clavel', 'amapolas', 'margarita']\n",
      "['rosa', 'cosmos', 'clavel', 'amapolas', 'margarita']\n",
      "['rosa', 'cosmos', 'amapolas', 'margarita']\n"
     ]
    }
   ],
   "source": [
    "lista_de_flores = [\"rosa\",\"jazmin\",\"clavel\", \"amapolas\"]\n",
    "\n",
    "lista_de_flores.append (\"margarita\")\n",
    "print (lista_de_flores)\n",
    "\n",
    "lista_de_flores[1] = (\"cosmos\")\n",
    "print (lista_de_flores)\n",
    "\n",
    "lista_de_flores.remove (\"clavel\")\n",
    "print (lista_de_flores)"
   ]
  },
  {
   "cell_type": "markdown",
   "metadata": {},
   "source": [
    "## Solucion de Emma 🍕"
   ]
  },
  {
   "cell_type": "code",
   "execution_count": 41,
   "metadata": {},
   "outputs": [
    {
     "name": "stdout",
     "output_type": "stream",
     "text": [
      "['rojo', 'verde', 'blanco', 'negro', 'azul']\n",
      "['rojo', 'verde', 'blanco', 'negro', 'azul', 'rosado']\n",
      "['rojo', 'amarillo', 'blanco', 'negro', 'azul', 'rosado']\n",
      "['rojo', 'amarillo', 'negro', 'azul', 'rosado']\n"
     ]
    }
   ],
   "source": [
    "lista_colores = [\"rojo\", \"verde\", \"blanco\", \"negro\", \"azul\"] # corchete para listas y atender comillas c/ item\n",
    "print (lista_colores)\n",
    "\n",
    "lista_colores.append(\"rosado\") # parentesis porque llama a una def hecha\n",
    "print (lista_colores)\n",
    "\n",
    "lista_colores[1] = (\"amarillo\") # corchete cuando llama a la lista\n",
    "print (lista_colores)\n",
    "\n",
    "lista_colores.remove(\"blanco\")\n",
    "print (lista_colores)"
   ]
  },
  {
   "cell_type": "markdown",
   "metadata": {},
   "source": [
    "## Bucle Iterativo (For)"
   ]
  },
  {
   "cell_type": "code",
   "execution_count": 44,
   "metadata": {},
   "outputs": [
    {
     "name": "stdout",
     "output_type": "stream",
     "text": [
      "hola, buen dia\n",
      "hola, buen dia\n",
      "hola, buen dia\n",
      "hola, buen dia\n",
      "hola, buen dia\n",
      "0\n",
      "1\n",
      "2\n",
      "3\n",
      "4\n"
     ]
    }
   ],
   "source": [
    "for i in range(5): # iterar en un rango de 5\n",
    "    print(\"hola, buen dia\")\n",
    "\n",
    "for lupa in range(5):\n",
    "    print(lupa) # imprimir el iterador"
   ]
  },
  {
   "cell_type": "code",
   "execution_count": 46,
   "metadata": {},
   "outputs": [
    {
     "name": "stdout",
     "output_type": "stream",
     "text": [
      "verificar si cerre el gas\n",
      "verificar si cerre el gas\n",
      "verificar si cerre el gas\n",
      "numero de integrante 0\n",
      "numero de integrante 1\n",
      "numero de integrante 2\n",
      "numero de integrante 3\n",
      "numero de integrante 4\n"
     ]
    }
   ],
   "source": [
    "for toc in range(3):\n",
    "    print(\"verificar si cerre el gas\")\n",
    "\n",
    "for integrantes in range(5):\n",
    "    print(f\"numero de integrante {integrantes}\")"
   ]
  },
  {
   "cell_type": "markdown",
   "metadata": {},
   "source": [
    "### Challenge 🤺 - 20m\n",
    "\n",
    "Escribir un programa que itere en un rango de 10 veces. Por cada iteracion multiplicar el iterador por dos e imprimir el resultado."
   ]
  },
  {
   "cell_type": "markdown",
   "metadata": {},
   "source": [
    "## Solucionde de Ara 🐩"
   ]
  },
  {
   "cell_type": "code",
   "execution_count": 47,
   "metadata": {},
   "outputs": [
    {
     "name": "stdout",
     "output_type": "stream",
     "text": [
      "0\n",
      "2\n",
      "4\n",
      "6\n",
      "8\n",
      "10\n",
      "12\n",
      "14\n",
      "16\n",
      "18\n"
     ]
    }
   ],
   "source": [
    "for multiplo in range(10):\n",
    "    multiplo = multiplo*2\n",
    "    print(multiplo)"
   ]
  },
  {
   "cell_type": "markdown",
   "metadata": {},
   "source": [
    "## Solucion de Jazzz 🍟"
   ]
  },
  {
   "cell_type": "code",
   "execution_count": 48,
   "metadata": {},
   "outputs": [
    {
     "name": "stdout",
     "output_type": "stream",
     "text": [
      "0\n",
      "2\n",
      "4\n",
      "6\n",
      "8\n",
      "10\n",
      "12\n",
      "14\n",
      "16\n",
      "18\n"
     ]
    }
   ],
   "source": [
    "for cafe in range(10):\n",
    "    print(cafe * 2)"
   ]
  },
  {
   "cell_type": "markdown",
   "metadata": {},
   "source": [
    "## For con Listas"
   ]
  },
  {
   "cell_type": "code",
   "execution_count": 55,
   "metadata": {},
   "outputs": [
    {
     "name": "stdout",
     "output_type": "stream",
     "text": [
      "Nike\n",
      "Adidas\n",
      "Dior\n",
      "Skecher\n",
      "Tatakua\n",
      "1\n",
      "6\n"
     ]
    }
   ],
   "source": [
    "lista_marcas = [\"Nike\", \"Adidas\", \"Dior\", \"Skecher\", \"Tatakua\"] # crear una lista marcas\n",
    "\n",
    "for marca in lista_marcas:   # recorrer la lista de marcas\n",
    "    print(marca)\n",
    "\n",
    "print(len(lista_marcas)) # verificar la cantidad de elementos de la lista marcas\n"
   ]
  },
  {
   "cell_type": "markdown",
   "metadata": {},
   "source": [
    "### Challenge 🤺 - 20m\n",
    "\n",
    "Recorrer los elementos de una lista de marcas e imprimir cada marca *__solamente__* si tiene 6 letras o más.\n"
   ]
  },
  {
   "cell_type": "markdown",
   "metadata": {},
   "source": [
    "## Solucion de Laura 👻"
   ]
  },
  {
   "cell_type": "code",
   "execution_count": 56,
   "metadata": {},
   "outputs": [
    {
     "name": "stdout",
     "output_type": "stream",
     "text": [
      "cuchara\n",
      "propaganda\n",
      "paciencia\n"
     ]
    }
   ],
   "source": [
    "marcas =[\"sopa\", \"cuchara\", \"propaganda\", \"masa\", \"paciencia\"]\n",
    "\n",
    "for i in marcas:\n",
    "    total = len(i)\n",
    "    if total >= 6:\n",
    "        print(i)"
   ]
  },
  {
   "cell_type": "markdown",
   "metadata": {},
   "source": [
    "## Solucion de Meli ☕"
   ]
  },
  {
   "cell_type": "code",
   "execution_count": 57,
   "metadata": {},
   "outputs": [
    {
     "name": "stdout",
     "output_type": "stream",
     "text": [
      "toshiba\n",
      "samsung\n"
     ]
    }
   ],
   "source": [
    "lista_de_marcas = [\"nike\", \"toshiba\", \"dior\", \"samsung\"]\n",
    "for marca in lista_de_marcas:\n",
    "    cantidad_de_letras = len(marca)\n",
    "    if cantidad_de_letras >= 6:\n",
    "        print(marca)"
   ]
  },
  {
   "cell_type": "code",
   "execution_count": 58,
   "metadata": {},
   "outputs": [
    {
     "name": "stdout",
     "output_type": "stream",
     "text": [
      "g\n",
      "a\n",
      "t\n",
      "o\n"
     ]
    }
   ],
   "source": [
    "for letra in \"gato\": # recorrer una palabra\n",
    "    print(letra) # imprimir letras de la palabra"
   ]
  },
  {
   "cell_type": "code",
   "execution_count": 62,
   "metadata": {},
   "outputs": [
    {
     "name": "stdout",
     "output_type": "stream",
     "text": [
      "no es o\n",
      "o\n",
      "no es o\n",
      "o\n",
      "no es o\n",
      "o\n"
     ]
    }
   ],
   "source": [
    "palabra = input(\"ingrese una palabra\")\n",
    "\n",
    "for letra in palabra:\n",
    "    if letra == \"o\":\n",
    "        print(letra)\n",
    "    else:\n",
    "        print(\"no es o\")"
   ]
  },
  {
   "cell_type": "markdown",
   "metadata": {},
   "source": [
    "# Wordle\n",
    "### Necesitamos lo siguiente: \n",
    "\n",
    "- Variables\n",
    "- Tipos de datos \n",
    "- Concatenacion\n",
    "- Operadores logicos\n",
    "- Condicionales\n",
    "- Funciones\n",
    "- Bucles "
   ]
  },
  {
   "cell_type": "code",
   "execution_count": 73,
   "metadata": {},
   "outputs": [
    {
     "name": "stdout",
     "output_type": "stream",
     "text": [
      "hace mucho calor\n"
     ]
    }
   ],
   "source": [
    "# Variables y tipos de datos\n",
    "\n",
    "palabra = \"calor\" # texto str\n",
    "letra1 = \"a\"\n",
    "letra2 = \"a\"\n",
    "numeros = 9 # numeros int\n",
    "numeros_decimales = 9.9 # decimales float\n",
    "booleanos = True # bool\n",
    "listas = [1,2,3] #listas (list)\n",
    "\n",
    "print(f\"hace mucho {palabra}\") # concatenacion"
   ]
  },
  {
   "cell_type": "code",
   "execution_count": 75,
   "metadata": {},
   "outputs": [
    {
     "name": "stdout",
     "output_type": "stream",
     "text": [
      "True\n",
      "True\n"
     ]
    }
   ],
   "source": [
    "# Operadores logicos\n",
    "\n",
    "# == -> comparacion\n",
    "# != -> diferente a \n",
    "# > mayor a\n",
    "# < menor a\n",
    "# <= menor o igual\n",
    "# >= mayor o igual\n",
    "# and (y) ambas condiciones\n",
    "# or (o) una de sola condicion\n",
    "# in si existe en\n",
    "\n",
    "letras_son_iguales = letra1 == letra2\n",
    "print(letras_son_iguales)\n",
    "\n",
    "letra_existe_en_palabra = letra1 in palabra\n",
    "print(letra_existe_en_palabra)"
   ]
  },
  {
   "cell_type": "code",
   "execution_count": 76,
   "metadata": {},
   "outputs": [
    {
     "name": "stdout",
     "output_type": "stream",
     "text": [
      "la letra existe en la palabra\n"
     ]
    }
   ],
   "source": [
    "# condicionales\n",
    "\n",
    "if letra_existe_en_palabra:\n",
    "    print(\"la letra existe en la palabra\")\n",
    "else:\n",
    "    print(\"la letra no existe en la palabra\")"
   ]
  },
  {
   "cell_type": "code",
   "execution_count": 78,
   "metadata": {},
   "outputs": [
    {
     "name": "stdout",
     "output_type": "stream",
     "text": [
      "hola, como estas hoy?\n",
      "hola, como estas hoy?\n"
     ]
    }
   ],
   "source": [
    "# funciones\n",
    "\n",
    "def imprimir_saludo(): # definir una funcion\n",
    "    print(\"hola, como estas hoy?\")\n",
    "\n",
    "imprimir_saludo()\n",
    "imprimir_saludo() # llamar una funcion "
   ]
  },
  {
   "cell_type": "markdown",
   "metadata": {},
   "source": [
    "## Challenge 1 🤺\n",
    "\n",
    "Crear una función que imprima la variable palabra."
   ]
  },
  {
   "cell_type": "markdown",
   "metadata": {},
   "source": [
    "## Solucion de Sofi 🤙🏻"
   ]
  },
  {
   "cell_type": "code",
   "execution_count": 79,
   "metadata": {},
   "outputs": [
    {
     "name": "stdout",
     "output_type": "stream",
     "text": [
      "palabra\n"
     ]
    }
   ],
   "source": [
    "def imprimir_palabra():\n",
    "    variable_1 = \"palabra\" \n",
    "    print(variable_1)\n",
    "\n",
    "imprimir_palabra()"
   ]
  },
  {
   "cell_type": "markdown",
   "metadata": {},
   "source": [
    "## Solucion de Ara 🧛🏻‍♀️"
   ]
  },
  {
   "cell_type": "code",
   "execution_count": 80,
   "metadata": {},
   "outputs": [
    {
     "name": "stdout",
     "output_type": "stream",
     "text": [
      "palabra\n"
     ]
    }
   ],
   "source": [
    "varaible = \"palabra\" \n",
    "\n",
    "def imprimir():\n",
    "    print(varaible)\n",
    "\n",
    "imprimir()"
   ]
  },
  {
   "cell_type": "code",
   "execution_count": 86,
   "metadata": {},
   "outputs": [
    {
     "name": "stdout",
     "output_type": "stream",
     "text": [
      "8\n",
      "758016\n"
     ]
    }
   ],
   "source": [
    "# Parametro y argumentos\n",
    "\n",
    "def operacion_con_numeros(numero1, numero2): # definir la funciones junto con los parametros \n",
    "    operacion = numero1 * numero2 # hacemos una operacion con los parametros\n",
    "    print(operacion) # imprimimos el resultado \n",
    "\n",
    "operacion_con_numeros(4, 2) # llamamos a la funcion y le damos valores a los parametros (argumentos)\n",
    "operacion_con_numeros(768, 987)"
   ]
  },
  {
   "cell_type": "markdown",
   "metadata": {},
   "source": [
    "## Challenge 2 🤺 - 15 min\n",
    "Crear una función que reciba dos letras (parámetros) y que verifique si son iguales:\n",
    "\n",
    "1. Si son iguales, imprimir \"Las letras son iguales\".\n",
    "\n",
    "2. De lo contrario, imprimir \"Las letras son diferentes\"."
   ]
  },
  {
   "cell_type": "markdown",
   "metadata": {},
   "source": [
    "## Solucion de Jazz 💞"
   ]
  },
  {
   "cell_type": "code",
   "execution_count": 87,
   "metadata": {},
   "outputs": [
    {
     "name": "stdout",
     "output_type": "stream",
     "text": [
      "las letras son iguales\n"
     ]
    }
   ],
   "source": [
    "letra1 = \"b\"\n",
    "letra2 = input(\"inserte una letra\")\n",
    "\n",
    "if letra2 == letra1:\n",
    "    print(\"las letras son iguales\")\n",
    "else:\n",
    "    print(\"las letras son diferentes\")"
   ]
  },
  {
   "cell_type": "markdown",
   "metadata": {},
   "source": [
    "## Solucion de Ara 🐩"
   ]
  },
  {
   "cell_type": "code",
   "execution_count": 89,
   "metadata": {},
   "outputs": [
    {
     "name": "stdout",
     "output_type": "stream",
     "text": [
      "las letras son iguales\n"
     ]
    }
   ],
   "source": [
    "def comparador_de_letras(letra1, letra2):\n",
    "    if letra1 == letra2:\n",
    "        print(\"las letras son iguales\")\n",
    "    else:\n",
    "        print(\"Las letras son diferentes\")\n",
    "\n",
    "comparador_de_letras(input(\"Ingrese la primera letra\"),input(\"Ingrese la segunda letra\"))"
   ]
  }
 ],
 "metadata": {
  "kernelspec": {
   "display_name": "Python 3.10.4 64-bit",
   "language": "python",
   "name": "python3"
  },
  "language_info": {
   "codemirror_mode": {
    "name": "ipython",
    "version": 3
   },
   "file_extension": ".py",
   "mimetype": "text/x-python",
   "name": "python",
   "nbconvert_exporter": "python",
   "pygments_lexer": "ipython3",
   "version": "3.10.4"
  },
  "orig_nbformat": 4,
  "vscode": {
   "interpreter": {
    "hash": "e593ac106456af50ce7af38f9671c411b49d6cd90f9b885e167f0f594e09038c"
   }
  }
 },
 "nbformat": 4,
 "nbformat_minor": 2
}
